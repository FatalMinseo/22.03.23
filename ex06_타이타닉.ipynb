{
 "cells": [
  {
   "cell_type": "markdown",
   "id": "722873a5",
   "metadata": {},
   "source": [
    "# 문제정의\n",
    "- 타이타닉 데이터를 사용해서 생존자와 사망자를 예측해보자\n",
    "- kaggle 경진대회에서 높은 순위를 차지"
   ]
  },
  {
   "cell_type": "markdown",
   "id": "e54fda77",
   "metadata": {},
   "source": [
    "# 데이터 수집\n",
    "- kaggle 사이트로부터 데이터 수집"
   ]
  },
  {
   "cell_type": "code",
   "execution_count": 1,
   "id": "6388f037",
   "metadata": {},
   "outputs": [],
   "source": [
    "import pandas as pd\n",
    "train =pd.read_csv('./data/train.csv')\n",
    "test=pd.read_csv('./data/test.csv')\n"
   ]
  },
  {
   "cell_type": "code",
   "execution_count": 2,
   "id": "70fec0ee",
   "metadata": {},
   "outputs": [
    {
     "data": {
      "text/plain": [
       "((891, 12), (418, 11))"
      ]
     },
     "execution_count": 2,
     "metadata": {},
     "output_type": "execute_result"
    }
   ],
   "source": [
    "train.shape, test.shape"
   ]
  },
  {
   "cell_type": "markdown",
   "id": "8a519074",
   "metadata": {},
   "source": [
    "- 분석 feature : Pclass, Age, SibSp, Parch, Fare...\n",
    "- 예측 target label : Survived\n",
    "\n",
    "- feature \n",
    "\n",
    "<table border=0 align=left width=700>\n",
    "  <tr><th>feature<th width=200>의미<th width=300>설명<th> 타입\n",
    "  <tr><td>Survivied<td>생존여부<td>target 라벨 (1 : 생존, 0 : 사망)<td>integer\n",
    "  <tr><td>Pclass<td>티켓의 클래스<td>1 = 1등석, 2 = 2등석, 3 = 3등석<td>integer \n",
    "  <tr><td>Sex<td>성별<td>male, female로 구분<td>string    \n",
    "  <tr><td>Age<td>나이<td>0-80세<td>integer\n",
    "  <tr><td>SibSp<td>함께 탑승한 형제와 배우자의 수<td><td>integer\n",
    "  <tr><td>Parch<td>함께 탑승한 부모, 아이의 수<td><td>integer\n",
    "  <tr><td>Ticket<td>티켓 번호<td>alphabat + integer<td>integer\n",
    "  <tr><td>Fare<td>탑승료<td><td>float\n",
    "  <tr><td>Cabin<td>객실 번호<td>alphabat + integer<td>string\n",
    "  <tr><td>Embarked<td>탑승 항구<td>C = Cherbourg, Q = Queenstown, S = Southampton<td>string\n",
    "</table>"
   ]
  },
  {
   "cell_type": "markdown",
   "id": "1d326f60",
   "metadata": {},
   "source": [
    "# 데이터 전처리"
   ]
  },
  {
   "cell_type": "markdown",
   "id": "ec589f4a",
   "metadata": {},
   "source": [
    "## 정답 컬럼 분리"
   ]
  },
  {
   "cell_type": "code",
   "execution_count": 3,
   "id": "63b6fb06",
   "metadata": {},
   "outputs": [],
   "source": [
    "y_train=train['Survived']"
   ]
  },
  {
   "cell_type": "markdown",
   "id": "44bd8afc",
   "metadata": {},
   "source": [
    "## 결측치 확인\n",
    "- info()"
   ]
  },
  {
   "cell_type": "code",
   "execution_count": 4,
   "id": "9165bdbd",
   "metadata": {},
   "outputs": [
    {
     "name": "stdout",
     "output_type": "stream",
     "text": [
      "<class 'pandas.core.frame.DataFrame'>\n",
      "RangeIndex: 891 entries, 0 to 890\n",
      "Data columns (total 12 columns):\n",
      " #   Column       Non-Null Count  Dtype  \n",
      "---  ------       --------------  -----  \n",
      " 0   PassengerId  891 non-null    int64  \n",
      " 1   Survived     891 non-null    int64  \n",
      " 2   Pclass       891 non-null    int64  \n",
      " 3   Name         891 non-null    object \n",
      " 4   Sex          891 non-null    object \n",
      " 5   Age          714 non-null    float64\n",
      " 6   SibSp        891 non-null    int64  \n",
      " 7   Parch        891 non-null    int64  \n",
      " 8   Ticket       891 non-null    object \n",
      " 9   Fare         891 non-null    float64\n",
      " 10  Cabin        204 non-null    object \n",
      " 11  Embarked     889 non-null    object \n",
      "dtypes: float64(2), int64(5), object(5)\n",
      "memory usage: 83.7+ KB\n"
     ]
    }
   ],
   "source": [
    "train.info()"
   ]
  },
  {
   "cell_type": "code",
   "execution_count": 5,
   "id": "37677783",
   "metadata": {},
   "outputs": [
    {
     "name": "stdout",
     "output_type": "stream",
     "text": [
      "<class 'pandas.core.frame.DataFrame'>\n",
      "RangeIndex: 418 entries, 0 to 417\n",
      "Data columns (total 11 columns):\n",
      " #   Column       Non-Null Count  Dtype  \n",
      "---  ------       --------------  -----  \n",
      " 0   PassengerId  418 non-null    int64  \n",
      " 1   Pclass       418 non-null    int64  \n",
      " 2   Name         418 non-null    object \n",
      " 3   Sex          418 non-null    object \n",
      " 4   Age          332 non-null    float64\n",
      " 5   SibSp        418 non-null    int64  \n",
      " 6   Parch        418 non-null    int64  \n",
      " 7   Ticket       418 non-null    object \n",
      " 8   Fare         417 non-null    float64\n",
      " 9   Cabin        91 non-null     object \n",
      " 10  Embarked     418 non-null    object \n",
      "dtypes: float64(2), int64(4), object(5)\n",
      "memory usage: 36.0+ KB\n"
     ]
    }
   ],
   "source": [
    "test.info()"
   ]
  },
  {
   "cell_type": "code",
   "execution_count": 6,
   "id": "ab9058cb",
   "metadata": {},
   "outputs": [
    {
     "data": {
      "text/html": [
       "<div>\n",
       "<style scoped>\n",
       "    .dataframe tbody tr th:only-of-type {\n",
       "        vertical-align: middle;\n",
       "    }\n",
       "\n",
       "    .dataframe tbody tr th {\n",
       "        vertical-align: top;\n",
       "    }\n",
       "\n",
       "    .dataframe thead th {\n",
       "        text-align: right;\n",
       "    }\n",
       "</style>\n",
       "<table border=\"1\" class=\"dataframe\">\n",
       "  <thead>\n",
       "    <tr style=\"text-align: right;\">\n",
       "      <th></th>\n",
       "      <th>PassengerId</th>\n",
       "      <th>Survived</th>\n",
       "      <th>Pclass</th>\n",
       "      <th>Name</th>\n",
       "      <th>Sex</th>\n",
       "      <th>Age</th>\n",
       "      <th>SibSp</th>\n",
       "      <th>Parch</th>\n",
       "      <th>Ticket</th>\n",
       "      <th>Fare</th>\n",
       "      <th>Cabin</th>\n",
       "      <th>Embarked</th>\n",
       "    </tr>\n",
       "  </thead>\n",
       "  <tbody>\n",
       "    <tr>\n",
       "      <th>0</th>\n",
       "      <td>1</td>\n",
       "      <td>0</td>\n",
       "      <td>3</td>\n",
       "      <td>Braund, Mr. Owen Harris</td>\n",
       "      <td>male</td>\n",
       "      <td>22.0</td>\n",
       "      <td>1</td>\n",
       "      <td>0</td>\n",
       "      <td>A/5 21171</td>\n",
       "      <td>7.2500</td>\n",
       "      <td>NaN</td>\n",
       "      <td>S</td>\n",
       "    </tr>\n",
       "    <tr>\n",
       "      <th>1</th>\n",
       "      <td>2</td>\n",
       "      <td>1</td>\n",
       "      <td>1</td>\n",
       "      <td>Cumings, Mrs. John Bradley (Florence Briggs Th...</td>\n",
       "      <td>female</td>\n",
       "      <td>38.0</td>\n",
       "      <td>1</td>\n",
       "      <td>0</td>\n",
       "      <td>PC 17599</td>\n",
       "      <td>71.2833</td>\n",
       "      <td>C85</td>\n",
       "      <td>C</td>\n",
       "    </tr>\n",
       "    <tr>\n",
       "      <th>2</th>\n",
       "      <td>3</td>\n",
       "      <td>1</td>\n",
       "      <td>3</td>\n",
       "      <td>Heikkinen, Miss. Laina</td>\n",
       "      <td>female</td>\n",
       "      <td>26.0</td>\n",
       "      <td>0</td>\n",
       "      <td>0</td>\n",
       "      <td>STON/O2. 3101282</td>\n",
       "      <td>7.9250</td>\n",
       "      <td>NaN</td>\n",
       "      <td>S</td>\n",
       "    </tr>\n",
       "    <tr>\n",
       "      <th>3</th>\n",
       "      <td>4</td>\n",
       "      <td>1</td>\n",
       "      <td>1</td>\n",
       "      <td>Futrelle, Mrs. Jacques Heath (Lily May Peel)</td>\n",
       "      <td>female</td>\n",
       "      <td>35.0</td>\n",
       "      <td>1</td>\n",
       "      <td>0</td>\n",
       "      <td>113803</td>\n",
       "      <td>53.1000</td>\n",
       "      <td>C123</td>\n",
       "      <td>S</td>\n",
       "    </tr>\n",
       "    <tr>\n",
       "      <th>4</th>\n",
       "      <td>5</td>\n",
       "      <td>0</td>\n",
       "      <td>3</td>\n",
       "      <td>Allen, Mr. William Henry</td>\n",
       "      <td>male</td>\n",
       "      <td>35.0</td>\n",
       "      <td>0</td>\n",
       "      <td>0</td>\n",
       "      <td>373450</td>\n",
       "      <td>8.0500</td>\n",
       "      <td>NaN</td>\n",
       "      <td>S</td>\n",
       "    </tr>\n",
       "  </tbody>\n",
       "</table>\n",
       "</div>"
      ],
      "text/plain": [
       "   PassengerId  Survived  Pclass  \\\n",
       "0            1         0       3   \n",
       "1            2         1       1   \n",
       "2            3         1       3   \n",
       "3            4         1       1   \n",
       "4            5         0       3   \n",
       "\n",
       "                                                Name     Sex   Age  SibSp  \\\n",
       "0                            Braund, Mr. Owen Harris    male  22.0      1   \n",
       "1  Cumings, Mrs. John Bradley (Florence Briggs Th...  female  38.0      1   \n",
       "2                             Heikkinen, Miss. Laina  female  26.0      0   \n",
       "3       Futrelle, Mrs. Jacques Heath (Lily May Peel)  female  35.0      1   \n",
       "4                           Allen, Mr. William Henry    male  35.0      0   \n",
       "\n",
       "   Parch            Ticket     Fare Cabin Embarked  \n",
       "0      0         A/5 21171   7.2500   NaN        S  \n",
       "1      0          PC 17599  71.2833   C85        C  \n",
       "2      0  STON/O2. 3101282   7.9250   NaN        S  \n",
       "3      0            113803  53.1000  C123        S  \n",
       "4      0            373450   8.0500   NaN        S  "
      ]
     },
     "execution_count": 6,
     "metadata": {},
     "output_type": "execute_result"
    }
   ],
   "source": [
    "train.head()"
   ]
  },
  {
   "cell_type": "markdown",
   "id": "a8f8d6df",
   "metadata": {},
   "source": [
    "## PassengerId 채우기"
   ]
  },
  {
   "cell_type": "code",
   "execution_count": 7,
   "id": "50f5faa0",
   "metadata": {},
   "outputs": [],
   "source": [
    "train.drop('PassengerId',axis=1, inplace=True)\n",
    "test.drop('PassengerId',axis=1, inplace=True)"
   ]
  },
  {
   "cell_type": "code",
   "execution_count": 8,
   "id": "65a18dbe",
   "metadata": {},
   "outputs": [
    {
     "data": {
      "text/plain": [
       "((891, 11), (418, 10))"
      ]
     },
     "execution_count": 8,
     "metadata": {},
     "output_type": "execute_result"
    }
   ],
   "source": [
    "train.shape, test.shape"
   ]
  },
  {
   "cell_type": "markdown",
   "id": "08438d4c",
   "metadata": {},
   "source": [
    "## Embarked 채우기\n",
    "- 최빈값으로 채우기"
   ]
  },
  {
   "cell_type": "code",
   "execution_count": 9,
   "id": "80980224",
   "metadata": {},
   "outputs": [
    {
     "data": {
      "text/plain": [
       "S    644\n",
       "C    168\n",
       "Q     77\n",
       "Name: Embarked, dtype: int64"
      ]
     },
     "execution_count": 9,
     "metadata": {},
     "output_type": "execute_result"
    }
   ],
   "source": [
    "train['Embarked'].value_counts()"
   ]
  },
  {
   "cell_type": "code",
   "execution_count": 10,
   "id": "00e42bab",
   "metadata": {
    "scrolled": true
   },
   "outputs": [],
   "source": [
    "train['Embarked'].fillna('S', inplace=True)"
   ]
  },
  {
   "cell_type": "markdown",
   "id": "6f47f2d0",
   "metadata": {},
   "source": [
    "## Fare 채우기\n",
    "- 중앙값 or 평균값으로 채우기"
   ]
  },
  {
   "cell_type": "code",
   "execution_count": 11,
   "id": "ef5dd833",
   "metadata": {},
   "outputs": [
    {
     "name": "stdout",
     "output_type": "stream",
     "text": [
      "<class 'pandas.core.frame.DataFrame'>\n",
      "RangeIndex: 418 entries, 0 to 417\n",
      "Data columns (total 10 columns):\n",
      " #   Column    Non-Null Count  Dtype  \n",
      "---  ------    --------------  -----  \n",
      " 0   Pclass    418 non-null    int64  \n",
      " 1   Name      418 non-null    object \n",
      " 2   Sex       418 non-null    object \n",
      " 3   Age       332 non-null    float64\n",
      " 4   SibSp     418 non-null    int64  \n",
      " 5   Parch     418 non-null    int64  \n",
      " 6   Ticket    418 non-null    object \n",
      " 7   Fare      417 non-null    float64\n",
      " 8   Cabin     91 non-null     object \n",
      " 9   Embarked  418 non-null    object \n",
      "dtypes: float64(2), int64(3), object(5)\n",
      "memory usage: 32.8+ KB\n"
     ]
    }
   ],
   "source": [
    "test.info()"
   ]
  },
  {
   "cell_type": "code",
   "execution_count": 12,
   "id": "db5b7e74",
   "metadata": {},
   "outputs": [
    {
     "data": {
      "text/plain": [
       "count    417.000000\n",
       "mean      35.627188\n",
       "std       55.907576\n",
       "min        0.000000\n",
       "25%        7.895800\n",
       "50%       14.454200\n",
       "75%       31.500000\n",
       "max      512.329200\n",
       "Name: Fare, dtype: float64"
      ]
     },
     "execution_count": 12,
     "metadata": {},
     "output_type": "execute_result"
    }
   ],
   "source": [
    "test['Fare'].describe()"
   ]
  },
  {
   "cell_type": "code",
   "execution_count": 13,
   "id": "8534fffa",
   "metadata": {},
   "outputs": [],
   "source": [
    "test['Fare'].fillna(14.1542, inplace=True)"
   ]
  },
  {
   "cell_type": "markdown",
   "id": "218ae416",
   "metadata": {},
   "source": [
    "##  Age 채우기\n",
    "- 다른 컬럼과의 상관관계를 통해서 데이터 채우기"
   ]
  },
  {
   "cell_type": "code",
   "execution_count": 14,
   "id": "62f69b72",
   "metadata": {},
   "outputs": [
    {
     "data": {
      "text/html": [
       "<div>\n",
       "<style scoped>\n",
       "    .dataframe tbody tr th:only-of-type {\n",
       "        vertical-align: middle;\n",
       "    }\n",
       "\n",
       "    .dataframe tbody tr th {\n",
       "        vertical-align: top;\n",
       "    }\n",
       "\n",
       "    .dataframe thead th {\n",
       "        text-align: right;\n",
       "    }\n",
       "</style>\n",
       "<table border=\"1\" class=\"dataframe\">\n",
       "  <thead>\n",
       "    <tr style=\"text-align: right;\">\n",
       "      <th></th>\n",
       "      <th>Survived</th>\n",
       "      <th>Pclass</th>\n",
       "      <th>Age</th>\n",
       "      <th>SibSp</th>\n",
       "      <th>Parch</th>\n",
       "      <th>Fare</th>\n",
       "    </tr>\n",
       "  </thead>\n",
       "  <tbody>\n",
       "    <tr>\n",
       "      <th>Survived</th>\n",
       "      <td>1.000000</td>\n",
       "      <td>-0.338481</td>\n",
       "      <td>-0.077221</td>\n",
       "      <td>-0.035322</td>\n",
       "      <td>0.081629</td>\n",
       "      <td>0.257307</td>\n",
       "    </tr>\n",
       "    <tr>\n",
       "      <th>Pclass</th>\n",
       "      <td>-0.338481</td>\n",
       "      <td>1.000000</td>\n",
       "      <td>-0.369226</td>\n",
       "      <td>0.083081</td>\n",
       "      <td>0.018443</td>\n",
       "      <td>-0.549500</td>\n",
       "    </tr>\n",
       "    <tr>\n",
       "      <th>Age</th>\n",
       "      <td>-0.077221</td>\n",
       "      <td>-0.369226</td>\n",
       "      <td>1.000000</td>\n",
       "      <td>-0.308247</td>\n",
       "      <td>-0.189119</td>\n",
       "      <td>0.096067</td>\n",
       "    </tr>\n",
       "    <tr>\n",
       "      <th>SibSp</th>\n",
       "      <td>-0.035322</td>\n",
       "      <td>0.083081</td>\n",
       "      <td>-0.308247</td>\n",
       "      <td>1.000000</td>\n",
       "      <td>0.414838</td>\n",
       "      <td>0.159651</td>\n",
       "    </tr>\n",
       "    <tr>\n",
       "      <th>Parch</th>\n",
       "      <td>0.081629</td>\n",
       "      <td>0.018443</td>\n",
       "      <td>-0.189119</td>\n",
       "      <td>0.414838</td>\n",
       "      <td>1.000000</td>\n",
       "      <td>0.216225</td>\n",
       "    </tr>\n",
       "    <tr>\n",
       "      <th>Fare</th>\n",
       "      <td>0.257307</td>\n",
       "      <td>-0.549500</td>\n",
       "      <td>0.096067</td>\n",
       "      <td>0.159651</td>\n",
       "      <td>0.216225</td>\n",
       "      <td>1.000000</td>\n",
       "    </tr>\n",
       "  </tbody>\n",
       "</table>\n",
       "</div>"
      ],
      "text/plain": [
       "          Survived    Pclass       Age     SibSp     Parch      Fare\n",
       "Survived  1.000000 -0.338481 -0.077221 -0.035322  0.081629  0.257307\n",
       "Pclass   -0.338481  1.000000 -0.369226  0.083081  0.018443 -0.549500\n",
       "Age      -0.077221 -0.369226  1.000000 -0.308247 -0.189119  0.096067\n",
       "SibSp    -0.035322  0.083081 -0.308247  1.000000  0.414838  0.159651\n",
       "Parch     0.081629  0.018443 -0.189119  0.414838  1.000000  0.216225\n",
       "Fare      0.257307 -0.549500  0.096067  0.159651  0.216225  1.000000"
      ]
     },
     "execution_count": 14,
     "metadata": {},
     "output_type": "execute_result"
    }
   ],
   "source": [
    "# 수치형 컬럼들 간의 상관관계를 확인\n",
    "train.corr()"
   ]
  },
  {
   "cell_type": "code",
   "execution_count": 15,
   "id": "c1e1c2ec",
   "metadata": {},
   "outputs": [],
   "source": [
    "# .groupby(by='Pclass') : 티켓 등급이 같은 데이터들끼리 묶음 \n",
    "age_table=train[['Pclass','Sex','Age']].groupby(by=['Pclass', 'Sex']).median()"
   ]
  },
  {
   "cell_type": "code",
   "execution_count": 16,
   "id": "a32eddf9",
   "metadata": {},
   "outputs": [
    {
     "data": {
      "text/html": [
       "<div>\n",
       "<style scoped>\n",
       "    .dataframe tbody tr th:only-of-type {\n",
       "        vertical-align: middle;\n",
       "    }\n",
       "\n",
       "    .dataframe tbody tr th {\n",
       "        vertical-align: top;\n",
       "    }\n",
       "\n",
       "    .dataframe thead th {\n",
       "        text-align: right;\n",
       "    }\n",
       "</style>\n",
       "<table border=\"1\" class=\"dataframe\">\n",
       "  <thead>\n",
       "    <tr style=\"text-align: right;\">\n",
       "      <th></th>\n",
       "      <th></th>\n",
       "      <th>Age</th>\n",
       "    </tr>\n",
       "    <tr>\n",
       "      <th>Pclass</th>\n",
       "      <th>Sex</th>\n",
       "      <th></th>\n",
       "    </tr>\n",
       "  </thead>\n",
       "  <tbody>\n",
       "    <tr>\n",
       "      <th rowspan=\"2\" valign=\"top\">1</th>\n",
       "      <th>female</th>\n",
       "      <td>35.0</td>\n",
       "    </tr>\n",
       "    <tr>\n",
       "      <th>male</th>\n",
       "      <td>40.0</td>\n",
       "    </tr>\n",
       "    <tr>\n",
       "      <th rowspan=\"2\" valign=\"top\">2</th>\n",
       "      <th>female</th>\n",
       "      <td>28.0</td>\n",
       "    </tr>\n",
       "    <tr>\n",
       "      <th>male</th>\n",
       "      <td>30.0</td>\n",
       "    </tr>\n",
       "    <tr>\n",
       "      <th rowspan=\"2\" valign=\"top\">3</th>\n",
       "      <th>female</th>\n",
       "      <td>21.5</td>\n",
       "    </tr>\n",
       "    <tr>\n",
       "      <th>male</th>\n",
       "      <td>25.0</td>\n",
       "    </tr>\n",
       "  </tbody>\n",
       "</table>\n",
       "</div>"
      ],
      "text/plain": [
       "                Age\n",
       "Pclass Sex         \n",
       "1      female  35.0\n",
       "       male    40.0\n",
       "2      female  28.0\n",
       "       male    30.0\n",
       "3      female  21.5\n",
       "       male    25.0"
      ]
     },
     "execution_count": 16,
     "metadata": {},
     "output_type": "execute_result"
    }
   ],
   "source": [
    "age_table"
   ]
  },
  {
   "cell_type": "code",
   "execution_count": 17,
   "id": "08094a74",
   "metadata": {},
   "outputs": [
    {
     "data": {
      "text/plain": [
       "Survived                   0\n",
       "Pclass                     3\n",
       "Name        Moran, Mr. James\n",
       "Sex                     male\n",
       "Age                      NaN\n",
       "SibSp                      0\n",
       "Parch                      0\n",
       "Ticket                330877\n",
       "Fare                  8.4583\n",
       "Cabin                    NaN\n",
       "Embarked                   Q\n",
       "Name: 5, dtype: object"
      ]
     },
     "execution_count": 17,
     "metadata": {},
     "output_type": "execute_result"
    }
   ],
   "source": [
    "train.iloc[5]"
   ]
  },
  {
   "cell_type": "markdown",
   "id": "f8e5fb4a",
   "metadata": {},
   "source": [
    "### age의 결측치를 채워줄 함수 만들기"
   ]
  },
  {
   "cell_type": "code",
   "execution_count": 18,
   "id": "62f82079",
   "metadata": {},
   "outputs": [],
   "source": [
    "import numpy as np"
   ]
  },
  {
   "cell_type": "code",
   "execution_count": 19,
   "id": "e48e8066",
   "metadata": {},
   "outputs": [],
   "source": [
    "def fill_age(person):\n",
    "    if np.isnan(person['Age']):\n",
    "        return age_table.loc[person['Pclass'], person['Sex']][0]\n",
    "    else :\n",
    "        return person['Age']"
   ]
  },
  {
   "cell_type": "code",
   "execution_count": 20,
   "id": "e84af986",
   "metadata": {},
   "outputs": [],
   "source": [
    "# apply : 행이나 열 별로 데이터를 출력하고 지정해둔 함수에 적용\n",
    "train['Age']=train.apply(fill_age, axis=1)"
   ]
  },
  {
   "cell_type": "code",
   "execution_count": 21,
   "id": "a5441e3b",
   "metadata": {},
   "outputs": [],
   "source": [
    "test['Age']=test.apply(fill_age, axis=1)"
   ]
  },
  {
   "cell_type": "code",
   "execution_count": 22,
   "id": "5c4f206f",
   "metadata": {},
   "outputs": [
    {
     "name": "stdout",
     "output_type": "stream",
     "text": [
      "<class 'pandas.core.frame.DataFrame'>\n",
      "RangeIndex: 418 entries, 0 to 417\n",
      "Data columns (total 10 columns):\n",
      " #   Column    Non-Null Count  Dtype  \n",
      "---  ------    --------------  -----  \n",
      " 0   Pclass    418 non-null    int64  \n",
      " 1   Name      418 non-null    object \n",
      " 2   Sex       418 non-null    object \n",
      " 3   Age       418 non-null    float64\n",
      " 4   SibSp     418 non-null    int64  \n",
      " 5   Parch     418 non-null    int64  \n",
      " 6   Ticket    418 non-null    object \n",
      " 7   Fare      418 non-null    float64\n",
      " 8   Cabin     91 non-null     object \n",
      " 9   Embarked  418 non-null    object \n",
      "dtypes: float64(2), int64(3), object(5)\n",
      "memory usage: 32.8+ KB\n"
     ]
    }
   ],
   "source": [
    "test.info()"
   ]
  },
  {
   "cell_type": "markdown",
   "id": "b4050bcf",
   "metadata": {},
   "source": [
    "## Cabin 채우기\n",
    "- 결측치의 비율이 너무 높기 때문에 결측치 자체를 하나의 데이터로 활용\n",
    "- 삭제하여 사용하는 게 효율적일 수도 있음"
   ]
  },
  {
   "cell_type": "code",
   "execution_count": 23,
   "id": "047e1d70",
   "metadata": {},
   "outputs": [
    {
     "data": {
      "text/plain": [
       "array([nan, 'C85', 'C123', 'E46', 'G6', 'C103', 'D56', 'A6',\n",
       "       'C23 C25 C27', 'B78', 'D33', 'B30', 'C52', 'B28', 'C83', 'F33',\n",
       "       'F G73', 'E31', 'A5', 'D10 D12', 'D26', 'C110', 'B58 B60', 'E101',\n",
       "       'F E69', 'D47', 'B86', 'F2', 'C2', 'E33', 'B19', 'A7', 'C49', 'F4',\n",
       "       'A32', 'B4', 'B80', 'A31', 'D36', 'D15', 'C93', 'C78', 'D35',\n",
       "       'C87', 'B77', 'E67', 'B94', 'C125', 'C99', 'C118', 'D7', 'A19',\n",
       "       'B49', 'D', 'C22 C26', 'C106', 'C65', 'E36', 'C54',\n",
       "       'B57 B59 B63 B66', 'C7', 'E34', 'C32', 'B18', 'C124', 'C91', 'E40',\n",
       "       'T', 'C128', 'D37', 'B35', 'E50', 'C82', 'B96 B98', 'E10', 'E44',\n",
       "       'A34', 'C104', 'C111', 'C92', 'E38', 'D21', 'E12', 'E63', 'A14',\n",
       "       'B37', 'C30', 'D20', 'B79', 'E25', 'D46', 'B73', 'C95', 'B38',\n",
       "       'B39', 'B22', 'C86', 'C70', 'A16', 'C101', 'C68', 'A10', 'E68',\n",
       "       'B41', 'A20', 'D19', 'D50', 'D9', 'A23', 'B50', 'A26', 'D48',\n",
       "       'E58', 'C126', 'B71', 'B51 B53 B55', 'D49', 'B5', 'B20', 'F G63',\n",
       "       'C62 C64', 'E24', 'C90', 'C45', 'E8', 'B101', 'D45', 'C46', 'D30',\n",
       "       'E121', 'D11', 'E77', 'F38', 'B3', 'D6', 'B82 B84', 'D17', 'A36',\n",
       "       'B102', 'B69', 'E49', 'C47', 'D28', 'E17', 'A24', 'C50', 'B42',\n",
       "       'C148'], dtype=object)"
      ]
     },
     "execution_count": 23,
     "metadata": {},
     "output_type": "execute_result"
    }
   ],
   "source": [
    "train['Cabin'].unique()"
   ]
  },
  {
   "cell_type": "code",
   "execution_count": 24,
   "id": "bc46294b",
   "metadata": {},
   "outputs": [],
   "source": [
    "train['Cabin']=train['Cabin'].str[0]\n",
    "test['Cabin']=test['Cabin'].str[0]"
   ]
  },
  {
   "cell_type": "code",
   "execution_count": 25,
   "id": "3e98985e",
   "metadata": {},
   "outputs": [
    {
     "data": {
      "text/plain": [
       "array([nan, 'C', 'E', 'G', 'D', 'A', 'B', 'F', 'T'], dtype=object)"
      ]
     },
     "execution_count": 25,
     "metadata": {},
     "output_type": "execute_result"
    }
   ],
   "source": [
    "train['Cabin'].unique()"
   ]
  },
  {
   "cell_type": "code",
   "execution_count": 26,
   "id": "5852929e",
   "metadata": {},
   "outputs": [],
   "source": [
    "train['Cabin'].fillna('N', inplace=True)\n",
    "test['Cabin'].fillna('N', inplace=True)"
   ]
  },
  {
   "cell_type": "markdown",
   "id": "4857324a",
   "metadata": {},
   "source": [
    "# 탐색적 데이터분석"
   ]
  },
  {
   "cell_type": "code",
   "execution_count": 27,
   "id": "f769588e",
   "metadata": {},
   "outputs": [
    {
     "name": "stdout",
     "output_type": "stream",
     "text": [
      "Requirement already satisfied: seaborn in c:\\users\\smhrd\\anaconda3\\lib\\site-packages (0.11.2)\n",
      "Requirement already satisfied: scipy>=1.0 in c:\\users\\smhrd\\anaconda3\\lib\\site-packages (from seaborn) (1.8.0)\n",
      "Requirement already satisfied: pandas>=0.23 in c:\\users\\smhrd\\anaconda3\\lib\\site-packages (from seaborn) (1.3.5)\n",
      "Requirement already satisfied: matplotlib>=2.2 in c:\\users\\smhrd\\anaconda3\\lib\\site-packages (from seaborn) (3.5.1)\n",
      "Requirement already satisfied: numpy>=1.15 in c:\\users\\smhrd\\anaconda3\\lib\\site-packages (from seaborn) (1.21.5)\n",
      "Requirement already satisfied: pillow>=6.2.0 in c:\\users\\smhrd\\anaconda3\\lib\\site-packages (from matplotlib>=2.2->seaborn) (8.4.0)\n",
      "Requirement already satisfied: fonttools>=4.22.0 in c:\\users\\smhrd\\anaconda3\\lib\\site-packages (from matplotlib>=2.2->seaborn) (4.28.5)\n",
      "Requirement already satisfied: python-dateutil>=2.7 in c:\\users\\smhrd\\anaconda3\\lib\\site-packages (from matplotlib>=2.2->seaborn) (2.8.2)\n",
      "Requirement already satisfied: cycler>=0.10 in c:\\users\\smhrd\\anaconda3\\lib\\site-packages (from matplotlib>=2.2->seaborn) (0.11.0)\n",
      "Requirement already satisfied: pyparsing>=2.2.1 in c:\\users\\smhrd\\anaconda3\\lib\\site-packages (from matplotlib>=2.2->seaborn) (3.0.4)\n",
      "Requirement already satisfied: kiwisolver>=1.0.1 in c:\\users\\smhrd\\anaconda3\\lib\\site-packages (from matplotlib>=2.2->seaborn) (1.3.2)\n",
      "Requirement already satisfied: packaging>=20.0 in c:\\users\\smhrd\\anaconda3\\lib\\site-packages (from matplotlib>=2.2->seaborn) (21.3)\n",
      "Requirement already satisfied: pytz>=2017.3 in c:\\users\\smhrd\\anaconda3\\lib\\site-packages (from pandas>=0.23->seaborn) (2021.3)\n",
      "Requirement already satisfied: six>=1.5 in c:\\users\\smhrd\\anaconda3\\lib\\site-packages (from python-dateutil>=2.7->matplotlib>=2.2->seaborn) (1.16.0)\n"
     ]
    }
   ],
   "source": [
    "!pip install seaborn"
   ]
  },
  {
   "cell_type": "code",
   "execution_count": 28,
   "id": "2bee7460",
   "metadata": {},
   "outputs": [],
   "source": [
    "# 시각화 라이브러리\n",
    "import seaborn as sns"
   ]
  },
  {
   "cell_type": "markdown",
   "id": "140018a6",
   "metadata": {},
   "source": [
    "## Cabin 시각화"
   ]
  },
  {
   "cell_type": "code",
   "execution_count": 29,
   "id": "8954c31a",
   "metadata": {},
   "outputs": [
    {
     "data": {
      "text/plain": [
       "<AxesSubplot:xlabel='Cabin', ylabel='count'>"
      ]
     },
     "execution_count": 29,
     "metadata": {},
     "output_type": "execute_result"
    },
    {
     "data": {
      "image/png": "[encoded data removed]",
      "text/plain": [
       "<Figure size 432x288 with 1 Axes>"
      ]
     },
     "metadata": {
      "needs_background": "light"
     },
     "output_type": "display_data"
    }
   ],
   "source": [
    "sns.countplot(data=train, x='Cabin', hue='Survived')"
   ]
  },
  {
   "cell_type": "markdown",
   "id": "44338827",
   "metadata": {},
   "source": [
    "- N에서 사망한 사람의 비율이 높다.\n",
    "- 임의로 채운 N 값을 분석에 사용해도 괜찮을 듯"
   ]
  },
  {
   "cell_type": "markdown",
   "id": "8aca0985",
   "metadata": {},
   "source": [
    "## Pclass 시각화"
   ]
  },
  {
   "cell_type": "code",
   "execution_count": 30,
   "id": "22adcb8c",
   "metadata": {},
   "outputs": [
    {
     "data": {
      "text/plain": [
       "<AxesSubplot:xlabel='Pclass', ylabel='count'>"
      ]
     },
     "execution_count": 30,
     "metadata": {},
     "output_type": "execute_result"
    },
    {
     "data": {
      "image/png": "[encoded data removed]",
      "text/plain": [
       "<Figure size 432x288 with 1 Axes>"
      ]
     },
     "metadata": {
      "needs_background": "light"
     },
     "output_type": "display_data"
    }
   ],
   "source": [
    "sns.countplot(data=train, x='Pclass', hue='Survived')"
   ]
  },
  {
   "cell_type": "markdown",
   "id": "fff1208e",
   "metadata": {},
   "source": [
    "## Embarked와 Pclass 시각화"
   ]
  },
  {
   "cell_type": "code",
   "execution_count": 31,
   "id": "7d292961",
   "metadata": {},
   "outputs": [
    {
     "data": {
      "text/plain": [
       "<AxesSubplot:xlabel='Embarked', ylabel='count'>"
      ]
     },
     "execution_count": 31,
     "metadata": {},
     "output_type": "execute_result"
    },
    {
     "data": {
      "image/png": "[encoded data removed]",
      "text/plain": [
       "<Figure size 432x288 with 1 Axes>"
      ]
     },
     "metadata": {
      "needs_background": "light"
     },
     "output_type": "display_data"
    }
   ],
   "source": [
    "sns.countplot(data=train, x='Embarked', hue='Pclass')"
   ]
  },
  {
   "cell_type": "markdown",
   "id": "c5c49847",
   "metadata": {},
   "source": [
    "## Sex, Age, Survived"
   ]
  },
  {
   "cell_type": "code",
   "execution_count": 32,
   "id": "d5b9896d",
   "metadata": {},
   "outputs": [
    {
     "data": {
      "text/plain": [
       "<AxesSubplot:xlabel='Sex', ylabel='Age'>"
      ]
     },
     "execution_count": 32,
     "metadata": {},
     "output_type": "execute_result"
    },
    {
     "data": {
      "image/png": "[encoded data removed]",
      "text/plain": [
       "<Figure size 432x288 with 1 Axes>"
      ]
     },
     "metadata": {
      "needs_background": "light"
     },
     "output_type": "display_data"
    }
   ],
   "source": [
    "sns.violinplot(data = train, x = 'Sex', y = 'Age', hue = 'Survived', split = True )"
   ]
  },
  {
   "cell_type": "markdown",
   "id": "e4e4131a",
   "metadata": {},
   "source": [
    "## SibSp, Parch 시각화\n",
    "- 특성공학 : 컬럼에 연산을 통해서 의미있는 새로운 정보를 추출하는 행위\n",
    "- Sibsp + Parch + 1 = Family_size 컬럼 생성"
   ]
  },
  {
   "cell_type": "code",
   "execution_count": 33,
   "id": "f86b2cf3",
   "metadata": {},
   "outputs": [
    {
     "data": {
      "text/plain": [
       "male      577\n",
       "female    314\n",
       "Name: Sex, dtype: int64"
      ]
     },
     "execution_count": 33,
     "metadata": {},
     "output_type": "execute_result"
    }
   ],
   "source": [
    "train['Sex'].value_counts()"
   ]
  },
  {
   "cell_type": "code",
   "execution_count": 34,
   "id": "3545da93",
   "metadata": {},
   "outputs": [],
   "source": [
    "train['Family_size']=train['SibSp']+train['Parch']+1\n",
    "test['Family_size']=test['SibSp']+test['Parch']+1"
   ]
  },
  {
   "cell_type": "code",
   "execution_count": 35,
   "id": "d401135b",
   "metadata": {},
   "outputs": [
    {
     "data": {
      "text/plain": [
       "<AxesSubplot:xlabel='Family_size', ylabel='count'>"
      ]
     },
     "execution_count": 35,
     "metadata": {},
     "output_type": "execute_result"
    },
    {
     "data": {
      "image/png": "[encoded data removed]",
      "text/plain": [
       "<Figure size 432x288 with 1 Axes>"
      ]
     },
     "metadata": {
      "needs_background": "light"
     },
     "output_type": "display_data"
    }
   ],
   "source": [
    "sns.countplot(data=train, x='Family_size', hue='Survived')"
   ]
  },
  {
   "cell_type": "code",
   "execution_count": 36,
   "id": "1c21682a",
   "metadata": {},
   "outputs": [],
   "source": [
    "bins = [0,1,4,20] # 구간정보(ex 0 초과 1 이하)\n",
    "labels=['Alone', 'Small', 'Large'] # 구간에 대한 범주 이름"
   ]
  },
  {
   "cell_type": "code",
   "execution_count": 37,
   "id": "24bdce9d",
   "metadata": {},
   "outputs": [],
   "source": [
    "train['Family_group']=pd.cut(train['Family_size'],bins=bins, labels=labels)\n",
    "test['Family_group']=pd.cut(test['Family_size'],bins=bins, labels=labels)"
   ]
  },
  {
   "cell_type": "code",
   "execution_count": 38,
   "id": "ee0487ac",
   "metadata": {},
   "outputs": [
    {
     "data": {
      "text/html": [
       "<div>\n",
       "<style scoped>\n",
       "    .dataframe tbody tr th:only-of-type {\n",
       "        vertical-align: middle;\n",
       "    }\n",
       "\n",
       "    .dataframe tbody tr th {\n",
       "        vertical-align: top;\n",
       "    }\n",
       "\n",
       "    .dataframe thead th {\n",
       "        text-align: right;\n",
       "    }\n",
       "</style>\n",
       "<table border=\"1\" class=\"dataframe\">\n",
       "  <thead>\n",
       "    <tr style=\"text-align: right;\">\n",
       "      <th></th>\n",
       "      <th>Survived</th>\n",
       "      <th>Pclass</th>\n",
       "      <th>Name</th>\n",
       "      <th>Sex</th>\n",
       "      <th>Age</th>\n",
       "      <th>SibSp</th>\n",
       "      <th>Parch</th>\n",
       "      <th>Ticket</th>\n",
       "      <th>Fare</th>\n",
       "      <th>Cabin</th>\n",
       "      <th>Embarked</th>\n",
       "      <th>Family_size</th>\n",
       "      <th>Family_group</th>\n",
       "    </tr>\n",
       "  </thead>\n",
       "  <tbody>\n",
       "    <tr>\n",
       "      <th>0</th>\n",
       "      <td>0</td>\n",
       "      <td>3</td>\n",
       "      <td>Braund, Mr. Owen Harris</td>\n",
       "      <td>male</td>\n",
       "      <td>22.0</td>\n",
       "      <td>1</td>\n",
       "      <td>0</td>\n",
       "      <td>A/5 21171</td>\n",
       "      <td>7.2500</td>\n",
       "      <td>N</td>\n",
       "      <td>S</td>\n",
       "      <td>2</td>\n",
       "      <td>Small</td>\n",
       "    </tr>\n",
       "    <tr>\n",
       "      <th>1</th>\n",
       "      <td>1</td>\n",
       "      <td>1</td>\n",
       "      <td>Cumings, Mrs. John Bradley (Florence Briggs Th...</td>\n",
       "      <td>female</td>\n",
       "      <td>38.0</td>\n",
       "      <td>1</td>\n",
       "      <td>0</td>\n",
       "      <td>PC 17599</td>\n",
       "      <td>71.2833</td>\n",
       "      <td>C</td>\n",
       "      <td>C</td>\n",
       "      <td>2</td>\n",
       "      <td>Small</td>\n",
       "    </tr>\n",
       "    <tr>\n",
       "      <th>2</th>\n",
       "      <td>1</td>\n",
       "      <td>3</td>\n",
       "      <td>Heikkinen, Miss. Laina</td>\n",
       "      <td>female</td>\n",
       "      <td>26.0</td>\n",
       "      <td>0</td>\n",
       "      <td>0</td>\n",
       "      <td>STON/O2. 3101282</td>\n",
       "      <td>7.9250</td>\n",
       "      <td>N</td>\n",
       "      <td>S</td>\n",
       "      <td>1</td>\n",
       "      <td>Alone</td>\n",
       "    </tr>\n",
       "    <tr>\n",
       "      <th>3</th>\n",
       "      <td>1</td>\n",
       "      <td>1</td>\n",
       "      <td>Futrelle, Mrs. Jacques Heath (Lily May Peel)</td>\n",
       "      <td>female</td>\n",
       "      <td>35.0</td>\n",
       "      <td>1</td>\n",
       "      <td>0</td>\n",
       "      <td>113803</td>\n",
       "      <td>53.1000</td>\n",
       "      <td>C</td>\n",
       "      <td>S</td>\n",
       "      <td>2</td>\n",
       "      <td>Small</td>\n",
       "    </tr>\n",
       "    <tr>\n",
       "      <th>4</th>\n",
       "      <td>0</td>\n",
       "      <td>3</td>\n",
       "      <td>Allen, Mr. William Henry</td>\n",
       "      <td>male</td>\n",
       "      <td>35.0</td>\n",
       "      <td>0</td>\n",
       "      <td>0</td>\n",
       "      <td>373450</td>\n",
       "      <td>8.0500</td>\n",
       "      <td>N</td>\n",
       "      <td>S</td>\n",
       "      <td>1</td>\n",
       "      <td>Alone</td>\n",
       "    </tr>\n",
       "  </tbody>\n",
       "</table>\n",
       "</div>"
      ],
      "text/plain": [
       "   Survived  Pclass                                               Name  \\\n",
       "0         0       3                            Braund, Mr. Owen Harris   \n",
       "1         1       1  Cumings, Mrs. John Bradley (Florence Briggs Th...   \n",
       "2         1       3                             Heikkinen, Miss. Laina   \n",
       "3         1       1       Futrelle, Mrs. Jacques Heath (Lily May Peel)   \n",
       "4         0       3                           Allen, Mr. William Henry   \n",
       "\n",
       "      Sex   Age  SibSp  Parch            Ticket     Fare Cabin Embarked  \\\n",
       "0    male  22.0      1      0         A/5 21171   7.2500     N        S   \n",
       "1  female  38.0      1      0          PC 17599  71.2833     C        C   \n",
       "2  female  26.0      0      0  STON/O2. 3101282   7.9250     N        S   \n",
       "3  female  35.0      1      0            113803  53.1000     C        S   \n",
       "4    male  35.0      0      0            373450   8.0500     N        S   \n",
       "\n",
       "   Family_size Family_group  \n",
       "0            2        Small  \n",
       "1            2        Small  \n",
       "2            1        Alone  \n",
       "3            2        Small  \n",
       "4            1        Alone  "
      ]
     },
     "execution_count": 38,
     "metadata": {},
     "output_type": "execute_result"
    }
   ],
   "source": [
    "train.head()"
   ]
  },
  {
   "cell_type": "markdown",
   "id": "50ba587a",
   "metadata": {},
   "source": [
    "### Family_group 시각화"
   ]
  },
  {
   "cell_type": "code",
   "execution_count": 39,
   "id": "bdbaeb7b",
   "metadata": {},
   "outputs": [
    {
     "data": {
      "text/plain": [
       "<AxesSubplot:xlabel='Family_group', ylabel='count'>"
      ]
     },
     "execution_count": 39,
     "metadata": {},
     "output_type": "execute_result"
    },
    {
     "data": {
      "image/png": "[encoded data removed]",
      "text/plain": [
       "<Figure size 432x288 with 1 Axes>"
      ]
     },
     "metadata": {
      "needs_background": "light"
     },
     "output_type": "display_data"
    }
   ],
   "source": [
    "sns.countplot(data=train, x='Family_group', hue='Survived')"
   ]
  },
  {
   "cell_type": "code",
   "execution_count": 40,
   "id": "125bb54a",
   "metadata": {},
   "outputs": [
    {
     "name": "stdout",
     "output_type": "stream",
     "text": [
      "<class 'pandas.core.frame.DataFrame'>\n",
      "RangeIndex: 891 entries, 0 to 890\n",
      "Data columns (total 13 columns):\n",
      " #   Column        Non-Null Count  Dtype   \n",
      "---  ------        --------------  -----   \n",
      " 0   Survived      891 non-null    int64   \n",
      " 1   Pclass        891 non-null    int64   \n",
      " 2   Name          891 non-null    object  \n",
      " 3   Sex           891 non-null    object  \n",
      " 4   Age           891 non-null    float64 \n",
      " 5   SibSp         891 non-null    int64   \n",
      " 6   Parch         891 non-null    int64   \n",
      " 7   Ticket        891 non-null    object  \n",
      " 8   Fare          891 non-null    float64 \n",
      " 9   Cabin         891 non-null    object  \n",
      " 10  Embarked      891 non-null    object  \n",
      " 11  Family_size   891 non-null    int64   \n",
      " 12  Family_group  891 non-null    category\n",
      "dtypes: category(1), float64(2), int64(5), object(5)\n",
      "memory usage: 84.7+ KB\n"
     ]
    }
   ],
   "source": [
    "train.info()"
   ]
  },
  {
   "cell_type": "markdown",
   "id": "ec304b33",
   "metadata": {},
   "source": [
    "## Text 데이터\n",
    "- Name, Tickit\n",
    "- 비정형데이터(사용하는 단어나 길이가 전부 다름)\n",
    "- 비정형데이터를 정형 데이터로 변경해서 사용할 수 있게하자."
   ]
  },
  {
   "cell_type": "code",
   "execution_count": 41,
   "id": "1537d66b",
   "metadata": {},
   "outputs": [
    {
     "data": {
      "text/plain": [
       "'Miss'"
      ]
     },
     "execution_count": 41,
     "metadata": {},
     "output_type": "execute_result"
    }
   ],
   "source": [
    "train['Name'][100].split(',')[1].split('.')[0].strip()"
   ]
  },
  {
   "cell_type": "markdown",
   "id": "19d235c9",
   "metadata": {},
   "source": [
    "### Name 전처리 함수 만들기"
   ]
  },
  {
   "cell_type": "code",
   "execution_count": 42,
   "id": "e969d214",
   "metadata": {},
   "outputs": [],
   "source": [
    "def split_name(name):\n",
    "    return name.split(',')[1].split('.')[0].strip()"
   ]
  },
  {
   "cell_type": "code",
   "execution_count": 43,
   "id": "ace21807",
   "metadata": {},
   "outputs": [],
   "source": [
    "train['Name']=train['Name'].apply(split_name)\n",
    "test['Name']=test['Name'].apply(split_name)"
   ]
  },
  {
   "cell_type": "code",
   "execution_count": 44,
   "id": "4d3c48c6",
   "metadata": {},
   "outputs": [
    {
     "data": {
      "text/plain": [
       "0        Mr\n",
       "1       Mrs\n",
       "2      Miss\n",
       "3       Mrs\n",
       "4        Mr\n",
       "       ... \n",
       "886     Rev\n",
       "887    Miss\n",
       "888    Miss\n",
       "889      Mr\n",
       "890      Mr\n",
       "Name: Name, Length: 891, dtype: object"
      ]
     },
     "execution_count": 44,
     "metadata": {},
     "output_type": "execute_result"
    }
   ],
   "source": [
    "train['Name']"
   ]
  },
  {
   "cell_type": "code",
   "execution_count": 45,
   "id": "1baa0e53",
   "metadata": {},
   "outputs": [
    {
     "data": {
      "text/plain": [
       "Mr              517\n",
       "Miss            182\n",
       "Mrs             125\n",
       "Master           40\n",
       "Dr                7\n",
       "Rev               6\n",
       "Mlle              2\n",
       "Major             2\n",
       "Col               2\n",
       "the Countess      1\n",
       "Capt              1\n",
       "Ms                1\n",
       "Sir               1\n",
       "Lady              1\n",
       "Mme               1\n",
       "Don               1\n",
       "Jonkheer          1\n",
       "Name: Name, dtype: int64"
      ]
     },
     "execution_count": 45,
     "metadata": {},
     "output_type": "execute_result"
    }
   ],
   "source": [
    "train['Name'].value_counts()"
   ]
  },
  {
   "cell_type": "code",
   "execution_count": 46,
   "id": "06607915",
   "metadata": {},
   "outputs": [],
   "source": [
    "# 라벨인코딩\n",
    "convert_title_dic = {\n",
    "    'Mr' : 'Mr' , \n",
    "    'Mrs' : 'Mrs', \n",
    "    'Miss' : 'Miss', \n",
    "    'Master' : 'Master', \n",
    "    'Don' : 'Other', \n",
    "    'Rev' : 'Rev', \n",
    "    'Dr': 'Dr', \n",
    "    'Mme' : 'Other', \n",
    "    'Ms' : 'Other',\n",
    "    'Major' : 'Other',\n",
    "    'Lady' : 'Other',\n",
    "    'Sir' : 'Other',\n",
    "    'Mlle' : 'Other',\n",
    "    'Col' : 'Other', \n",
    "    'Capt' : 'Other', \n",
    "    'the Countess' : 'Other',\n",
    "    'Jonkheer' : 'Other',\n",
    "    'Dona' : 'Other'\n",
    "}"
   ]
  },
  {
   "cell_type": "code",
   "execution_count": 47,
   "id": "ed322963",
   "metadata": {},
   "outputs": [],
   "source": [
    "train['Name']=train['Name'].map(convert_title_dic)"
   ]
  },
  {
   "cell_type": "code",
   "execution_count": 48,
   "id": "36c4971d",
   "metadata": {},
   "outputs": [],
   "source": [
    "test['Name']=test['Name'].map(convert_title_dic)"
   ]
  },
  {
   "cell_type": "code",
   "execution_count": 49,
   "id": "94095ff0",
   "metadata": {},
   "outputs": [
    {
     "data": {
      "text/plain": [
       "0        Mr\n",
       "1       Mrs\n",
       "2      Miss\n",
       "3       Mrs\n",
       "4        Mr\n",
       "       ... \n",
       "886     Rev\n",
       "887    Miss\n",
       "888    Miss\n",
       "889      Mr\n",
       "890      Mr\n",
       "Name: Name, Length: 891, dtype: object"
      ]
     },
     "execution_count": 49,
     "metadata": {},
     "output_type": "execute_result"
    }
   ],
   "source": [
    "train['Name']"
   ]
  },
  {
   "cell_type": "code",
   "execution_count": 50,
   "id": "0df2f0a7",
   "metadata": {},
   "outputs": [
    {
     "data": {
      "text/plain": [
       "Mr        517\n",
       "Miss      182\n",
       "Mrs       125\n",
       "Master     40\n",
       "Other      14\n",
       "Dr          7\n",
       "Rev         6\n",
       "Name: Name, dtype: int64"
      ]
     },
     "execution_count": 50,
     "metadata": {},
     "output_type": "execute_result"
    }
   ],
   "source": [
    "train['Name'].value_counts()"
   ]
  },
  {
   "cell_type": "markdown",
   "id": "465a8535",
   "metadata": {},
   "source": [
    "### Ticket 전처리"
   ]
  },
  {
   "cell_type": "code",
   "execution_count": 51,
   "id": "0903923a",
   "metadata": {},
   "outputs": [
    {
     "data": {
      "text/plain": [
       "681"
      ]
     },
     "execution_count": 51,
     "metadata": {},
     "output_type": "execute_result"
    }
   ],
   "source": [
    "len(train['Ticket'].unique())"
   ]
  },
  {
   "cell_type": "code",
   "execution_count": 52,
   "id": "677912d5",
   "metadata": {},
   "outputs": [],
   "source": [
    "train.drop('Ticket', axis=1, inplace=True)\n",
    "test.drop('Ticket', axis=1, inplace=True)"
   ]
  },
  {
   "cell_type": "code",
   "execution_count": 53,
   "id": "6a4ea66f",
   "metadata": {},
   "outputs": [
    {
     "data": {
      "text/plain": [
       "((891, 12), (418, 11))"
      ]
     },
     "execution_count": 53,
     "metadata": {},
     "output_type": "execute_result"
    }
   ],
   "source": [
    "train.shape, test.shape"
   ]
  },
  {
   "cell_type": "code",
   "execution_count": 54,
   "id": "22a2c96f",
   "metadata": {},
   "outputs": [
    {
     "name": "stdout",
     "output_type": "stream",
     "text": [
      "<class 'pandas.core.frame.DataFrame'>\n",
      "RangeIndex: 891 entries, 0 to 890\n",
      "Data columns (total 12 columns):\n",
      " #   Column        Non-Null Count  Dtype   \n",
      "---  ------        --------------  -----   \n",
      " 0   Survived      891 non-null    int64   \n",
      " 1   Pclass        891 non-null    int64   \n",
      " 2   Name          891 non-null    object  \n",
      " 3   Sex           891 non-null    object  \n",
      " 4   Age           891 non-null    float64 \n",
      " 5   SibSp         891 non-null    int64   \n",
      " 6   Parch         891 non-null    int64   \n",
      " 7   Fare          891 non-null    float64 \n",
      " 8   Cabin         891 non-null    object  \n",
      " 9   Embarked      891 non-null    object  \n",
      " 10  Family_size   891 non-null    int64   \n",
      " 11  Family_group  891 non-null    category\n",
      "dtypes: category(1), float64(2), int64(5), object(4)\n",
      "memory usage: 77.7+ KB\n"
     ]
    }
   ],
   "source": [
    "train.info()"
   ]
  },
  {
   "cell_type": "markdown",
   "id": "7b62abb5",
   "metadata": {},
   "source": [
    "## 글자데이터를 숫자데이터로 변경\n",
    "- 원핫인코딩\n",
    "- Name, Sex, Cabin, Embarked, Family_group"
   ]
  },
  {
   "cell_type": "code",
   "execution_count": 55,
   "id": "0f78db38",
   "metadata": {},
   "outputs": [],
   "source": [
    "categorical_feature=['Name', 'Sex', 'Cabin', 'Embarked', 'Family_group']"
   ]
  },
  {
   "cell_type": "code",
   "execution_count": 56,
   "id": "cc309e4c",
   "metadata": {},
   "outputs": [],
   "source": [
    "train.drop('Survived', axis=1,inplace=True)"
   ]
  },
  {
   "cell_type": "code",
   "execution_count": 57,
   "id": "757a112a",
   "metadata": {},
   "outputs": [],
   "source": [
    "combined=pd.concat([train, test], ignore_index=True)"
   ]
  },
  {
   "cell_type": "code",
   "execution_count": 58,
   "id": "40288af0",
   "metadata": {},
   "outputs": [
    {
     "data": {
      "text/html": [
       "<div>\n",
       "<style scoped>\n",
       "    .dataframe tbody tr th:only-of-type {\n",
       "        vertical-align: middle;\n",
       "    }\n",
       "\n",
       "    .dataframe tbody tr th {\n",
       "        vertical-align: top;\n",
       "    }\n",
       "\n",
       "    .dataframe thead th {\n",
       "        text-align: right;\n",
       "    }\n",
       "</style>\n",
       "<table border=\"1\" class=\"dataframe\">\n",
       "  <thead>\n",
       "    <tr style=\"text-align: right;\">\n",
       "      <th></th>\n",
       "      <th>Pclass</th>\n",
       "      <th>Name</th>\n",
       "      <th>Sex</th>\n",
       "      <th>Age</th>\n",
       "      <th>SibSp</th>\n",
       "      <th>Parch</th>\n",
       "      <th>Fare</th>\n",
       "      <th>Cabin</th>\n",
       "      <th>Embarked</th>\n",
       "      <th>Family_size</th>\n",
       "      <th>Family_group</th>\n",
       "    </tr>\n",
       "  </thead>\n",
       "  <tbody>\n",
       "    <tr>\n",
       "      <th>0</th>\n",
       "      <td>3</td>\n",
       "      <td>Mr</td>\n",
       "      <td>male</td>\n",
       "      <td>22.0</td>\n",
       "      <td>1</td>\n",
       "      <td>0</td>\n",
       "      <td>7.2500</td>\n",
       "      <td>N</td>\n",
       "      <td>S</td>\n",
       "      <td>2</td>\n",
       "      <td>Small</td>\n",
       "    </tr>\n",
       "    <tr>\n",
       "      <th>1</th>\n",
       "      <td>1</td>\n",
       "      <td>Mrs</td>\n",
       "      <td>female</td>\n",
       "      <td>38.0</td>\n",
       "      <td>1</td>\n",
       "      <td>0</td>\n",
       "      <td>71.2833</td>\n",
       "      <td>C</td>\n",
       "      <td>C</td>\n",
       "      <td>2</td>\n",
       "      <td>Small</td>\n",
       "    </tr>\n",
       "    <tr>\n",
       "      <th>2</th>\n",
       "      <td>3</td>\n",
       "      <td>Miss</td>\n",
       "      <td>female</td>\n",
       "      <td>26.0</td>\n",
       "      <td>0</td>\n",
       "      <td>0</td>\n",
       "      <td>7.9250</td>\n",
       "      <td>N</td>\n",
       "      <td>S</td>\n",
       "      <td>1</td>\n",
       "      <td>Alone</td>\n",
       "    </tr>\n",
       "    <tr>\n",
       "      <th>3</th>\n",
       "      <td>1</td>\n",
       "      <td>Mrs</td>\n",
       "      <td>female</td>\n",
       "      <td>35.0</td>\n",
       "      <td>1</td>\n",
       "      <td>0</td>\n",
       "      <td>53.1000</td>\n",
       "      <td>C</td>\n",
       "      <td>S</td>\n",
       "      <td>2</td>\n",
       "      <td>Small</td>\n",
       "    </tr>\n",
       "    <tr>\n",
       "      <th>4</th>\n",
       "      <td>3</td>\n",
       "      <td>Mr</td>\n",
       "      <td>male</td>\n",
       "      <td>35.0</td>\n",
       "      <td>0</td>\n",
       "      <td>0</td>\n",
       "      <td>8.0500</td>\n",
       "      <td>N</td>\n",
       "      <td>S</td>\n",
       "      <td>1</td>\n",
       "      <td>Alone</td>\n",
       "    </tr>\n",
       "    <tr>\n",
       "      <th>...</th>\n",
       "      <td>...</td>\n",
       "      <td>...</td>\n",
       "      <td>...</td>\n",
       "      <td>...</td>\n",
       "      <td>...</td>\n",
       "      <td>...</td>\n",
       "      <td>...</td>\n",
       "      <td>...</td>\n",
       "      <td>...</td>\n",
       "      <td>...</td>\n",
       "      <td>...</td>\n",
       "    </tr>\n",
       "    <tr>\n",
       "      <th>1304</th>\n",
       "      <td>3</td>\n",
       "      <td>Mr</td>\n",
       "      <td>male</td>\n",
       "      <td>25.0</td>\n",
       "      <td>0</td>\n",
       "      <td>0</td>\n",
       "      <td>8.0500</td>\n",
       "      <td>N</td>\n",
       "      <td>S</td>\n",
       "      <td>1</td>\n",
       "      <td>Alone</td>\n",
       "    </tr>\n",
       "    <tr>\n",
       "      <th>1305</th>\n",
       "      <td>1</td>\n",
       "      <td>Other</td>\n",
       "      <td>female</td>\n",
       "      <td>39.0</td>\n",
       "      <td>0</td>\n",
       "      <td>0</td>\n",
       "      <td>108.9000</td>\n",
       "      <td>C</td>\n",
       "      <td>C</td>\n",
       "      <td>1</td>\n",
       "      <td>Alone</td>\n",
       "    </tr>\n",
       "    <tr>\n",
       "      <th>1306</th>\n",
       "      <td>3</td>\n",
       "      <td>Mr</td>\n",
       "      <td>male</td>\n",
       "      <td>38.5</td>\n",
       "      <td>0</td>\n",
       "      <td>0</td>\n",
       "      <td>7.2500</td>\n",
       "      <td>N</td>\n",
       "      <td>S</td>\n",
       "      <td>1</td>\n",
       "      <td>Alone</td>\n",
       "    </tr>\n",
       "    <tr>\n",
       "      <th>1307</th>\n",
       "      <td>3</td>\n",
       "      <td>Mr</td>\n",
       "      <td>male</td>\n",
       "      <td>25.0</td>\n",
       "      <td>0</td>\n",
       "      <td>0</td>\n",
       "      <td>8.0500</td>\n",
       "      <td>N</td>\n",
       "      <td>S</td>\n",
       "      <td>1</td>\n",
       "      <td>Alone</td>\n",
       "    </tr>\n",
       "    <tr>\n",
       "      <th>1308</th>\n",
       "      <td>3</td>\n",
       "      <td>Master</td>\n",
       "      <td>male</td>\n",
       "      <td>25.0</td>\n",
       "      <td>1</td>\n",
       "      <td>1</td>\n",
       "      <td>22.3583</td>\n",
       "      <td>N</td>\n",
       "      <td>C</td>\n",
       "      <td>3</td>\n",
       "      <td>Small</td>\n",
       "    </tr>\n",
       "  </tbody>\n",
       "</table>\n",
       "<p>1309 rows × 11 columns</p>\n",
       "</div>"
      ],
      "text/plain": [
       "      Pclass    Name     Sex   Age  SibSp  Parch      Fare Cabin Embarked  \\\n",
       "0          3      Mr    male  22.0      1      0    7.2500     N        S   \n",
       "1          1     Mrs  female  38.0      1      0   71.2833     C        C   \n",
       "2          3    Miss  female  26.0      0      0    7.9250     N        S   \n",
       "3          1     Mrs  female  35.0      1      0   53.1000     C        S   \n",
       "4          3      Mr    male  35.0      0      0    8.0500     N        S   \n",
       "...      ...     ...     ...   ...    ...    ...       ...   ...      ...   \n",
       "1304       3      Mr    male  25.0      0      0    8.0500     N        S   \n",
       "1305       1   Other  female  39.0      0      0  108.9000     C        C   \n",
       "1306       3      Mr    male  38.5      0      0    7.2500     N        S   \n",
       "1307       3      Mr    male  25.0      0      0    8.0500     N        S   \n",
       "1308       3  Master    male  25.0      1      1   22.3583     N        C   \n",
       "\n",
       "      Family_size Family_group  \n",
       "0               2        Small  \n",
       "1               2        Small  \n",
       "2               1        Alone  \n",
       "3               2        Small  \n",
       "4               1        Alone  \n",
       "...           ...          ...  \n",
       "1304            1        Alone  \n",
       "1305            1        Alone  \n",
       "1306            1        Alone  \n",
       "1307            1        Alone  \n",
       "1308            3        Small  \n",
       "\n",
       "[1309 rows x 11 columns]"
      ]
     },
     "execution_count": 58,
     "metadata": {},
     "output_type": "execute_result"
    }
   ],
   "source": [
    "combined"
   ]
  },
  {
   "cell_type": "code",
   "execution_count": 59,
   "id": "2cb7cb27",
   "metadata": {},
   "outputs": [
    {
     "data": {
      "text/plain": [
       "(1309, 24)"
      ]
     },
     "execution_count": 59,
     "metadata": {},
     "output_type": "execute_result"
    }
   ],
   "source": [
    "# 원핫인코딩\n",
    "one_hot=pd.get_dummies(combined[categorical_feature])\n",
    "one_hot.shape"
   ]
  },
  {
   "cell_type": "code",
   "execution_count": 60,
   "id": "4677dee6",
   "metadata": {},
   "outputs": [],
   "source": [
    "combined.drop(categorical_feature, axis=1, inplace=True)"
   ]
  },
  {
   "cell_type": "code",
   "execution_count": 61,
   "id": "0a48f95c",
   "metadata": {},
   "outputs": [],
   "source": [
    "combined=pd.concat([combined, one_hot],axis=1)"
   ]
  },
  {
   "cell_type": "code",
   "execution_count": 62,
   "id": "a27f7bf0",
   "metadata": {},
   "outputs": [
    {
     "data": {
      "text/plain": [
       "(1309, 30)"
      ]
     },
     "execution_count": 62,
     "metadata": {},
     "output_type": "execute_result"
    }
   ],
   "source": [
    "combined.shape"
   ]
  },
  {
   "cell_type": "markdown",
   "id": "7c1ddd9e",
   "metadata": {},
   "source": [
    "# 모델 선택 및 하이퍼 파라미터 튜닝"
   ]
  },
  {
   "cell_type": "markdown",
   "id": "e4e2359c",
   "metadata": {},
   "source": [
    "## 데이터 나누기"
   ]
  },
  {
   "cell_type": "code",
   "execution_count": 63,
   "id": "cd04ed09",
   "metadata": {},
   "outputs": [],
   "source": [
    "X_train=combined.iloc[:891]\n",
    "X_test=combined.iloc[891:]"
   ]
  },
  {
   "cell_type": "code",
   "execution_count": 64,
   "id": "17911f61",
   "metadata": {},
   "outputs": [
    {
     "data": {
      "text/plain": [
       "((891, 30), (418, 30), (891,))"
      ]
     },
     "execution_count": 64,
     "metadata": {},
     "output_type": "execute_result"
    }
   ],
   "source": [
    "X_train.shape, X_test.shape, y_train.shape"
   ]
  },
  {
   "cell_type": "markdown",
   "id": "f2e4ea9e",
   "metadata": {},
   "source": [
    "## 모델 불러오기"
   ]
  },
  {
   "cell_type": "code",
   "execution_count": 65,
   "id": "2c88704f",
   "metadata": {},
   "outputs": [],
   "source": [
    "from sklearn.tree import DecisionTreeClassifier"
   ]
  },
  {
   "cell_type": "code",
   "execution_count": 66,
   "id": "e45d0aff",
   "metadata": {},
   "outputs": [],
   "source": [
    "tree_model =DecisionTreeClassifier()"
   ]
  },
  {
   "cell_type": "code",
   "execution_count": 67,
   "id": "8c83292c",
   "metadata": {},
   "outputs": [
    {
     "data": {
      "text/plain": [
       "DecisionTreeClassifier()"
      ]
     },
     "execution_count": 67,
     "metadata": {},
     "output_type": "execute_result"
    }
   ],
   "source": [
    "tree_model.fit(X_train, y_train)"
   ]
  },
  {
   "cell_type": "code",
   "execution_count": 68,
   "id": "35d496df",
   "metadata": {},
   "outputs": [],
   "source": [
    "pre=tree_model.predict(X_test)"
   ]
  },
  {
   "cell_type": "code",
   "execution_count": 69,
   "id": "c663a2ae",
   "metadata": {},
   "outputs": [
    {
     "data": {
      "text/plain": [
       "array([0, 0, 1, 1, 1, 0, 0, 0, 1, 0, 0, 0, 1, 0, 1, 1, 0, 1, 1, 0, 0, 1,\n",
       "       1, 0, 1, 0, 1, 1, 1, 0, 0, 0, 1, 0, 0, 1, 0, 0, 0, 1, 0, 1, 0, 1,\n",
       "       1, 0, 0, 0, 1, 0, 0, 0, 1, 1, 0, 0, 0, 0, 0, 1, 0, 1, 0, 1, 1, 1,\n",
       "       1, 0, 1, 1, 1, 0, 0, 1, 1, 0, 0, 1, 0, 1, 1, 0, 0, 0, 0, 0, 1, 1,\n",
       "       1, 1, 1, 0, 1, 0, 0, 0, 0, 1, 1, 0, 1, 0, 0, 0, 1, 0, 0, 0, 0, 0,\n",
       "       0, 1, 1, 1, 1, 1, 0, 1, 0, 1, 1, 0, 1, 0, 0, 1, 0, 1, 1, 0, 0, 0,\n",
       "       0, 0, 0, 0, 0, 0, 0, 0, 0, 1, 0, 0, 1, 0, 0, 0, 1, 0, 1, 0, 0, 0,\n",
       "       0, 0, 1, 1, 1, 1, 1, 1, 1, 0, 0, 0, 0, 0, 1, 0, 0, 0, 0, 0, 0, 1,\n",
       "       1, 1, 1, 1, 0, 0, 1, 0, 1, 0, 1, 0, 0, 0, 0, 0, 1, 1, 1, 0, 1, 0,\n",
       "       0, 0, 1, 1, 1, 1, 0, 0, 0, 0, 1, 0, 1, 0, 0, 0, 1, 0, 1, 0, 1, 0,\n",
       "       1, 0, 1, 1, 1, 0, 0, 1, 0, 0, 0, 1, 0, 0, 1, 0, 1, 1, 1, 1, 1, 1,\n",
       "       0, 0, 0, 1, 1, 0, 1, 0, 1, 0, 1, 0, 1, 0, 0, 0, 1, 0, 0, 0, 1, 1,\n",
       "       1, 0, 0, 0, 0, 0, 0, 0, 1, 1, 0, 1, 0, 0, 0, 0, 0, 1, 1, 0, 1, 0,\n",
       "       0, 0, 0, 0, 0, 0, 0, 1, 0, 0, 1, 0, 0, 1, 0, 1, 0, 0, 1, 1, 0, 1,\n",
       "       1, 0, 0, 1, 0, 0, 1, 1, 0, 0, 0, 0, 0, 0, 0, 1, 1, 0, 1, 0, 0, 0,\n",
       "       1, 1, 0, 0, 0, 0, 1, 0, 0, 1, 0, 0, 0, 1, 1, 0, 0, 0, 0, 1, 1, 0,\n",
       "       0, 0, 1, 0, 1, 0, 0, 0, 0, 1, 1, 1, 1, 0, 0, 1, 1, 1, 0, 1, 0, 1,\n",
       "       1, 1, 0, 0, 0, 1, 0, 0, 1, 1, 0, 1, 0, 0, 0, 0, 0, 1, 0, 0, 0, 1,\n",
       "       0, 1, 0, 0, 1, 0, 1, 0, 1, 1, 0, 0, 1, 1, 1, 1, 0, 0, 1, 0, 0, 1],\n",
       "      dtype=int64)"
      ]
     },
     "execution_count": 69,
     "metadata": {},
     "output_type": "execute_result"
    }
   ],
   "source": [
    "pre"
   ]
  },
  {
   "cell_type": "code",
   "execution_count": 70,
   "id": "8c6d4325",
   "metadata": {},
   "outputs": [],
   "source": [
    "gender_sub=pd.read_csv('./data/gender_submission.csv')"
   ]
  },
  {
   "cell_type": "code",
   "execution_count": 71,
   "id": "3b1f559e",
   "metadata": {},
   "outputs": [],
   "source": [
    "gender_sub['Survived']=pre # 모델의 예측 결과를 제출양식에 담기"
   ]
  },
  {
   "cell_type": "code",
   "execution_count": 72,
   "id": "6d0d591f",
   "metadata": {},
   "outputs": [],
   "source": [
    "gender_sub.to_csv('mysub01.csv',index=False) # csv파일로 뽑아내기"
   ]
  },
  {
   "cell_type": "code",
   "execution_count": 73,
   "id": "7d962ef8",
   "metadata": {},
   "outputs": [],
   "source": [
    "from sklearn.model_selection import cross_val_score"
   ]
  },
  {
   "cell_type": "markdown",
   "id": "39712ef6",
   "metadata": {},
   "source": [
    "## 교차검증"
   ]
  },
  {
   "cell_type": "code",
   "execution_count": 74,
   "id": "a90ea289",
   "metadata": {},
   "outputs": [
    {
     "data": {
      "text/plain": [
       "0.7867804908668634"
      ]
     },
     "execution_count": 74,
     "metadata": {},
     "output_type": "execute_result"
    }
   ],
   "source": [
    "result =cross_val_score(tree_model, X_train, y_train, cv=5)\n",
    "result.mean()"
   ]
  },
  {
   "cell_type": "code",
   "execution_count": 75,
   "id": "16118633",
   "metadata": {},
   "outputs": [
    {
     "data": {
      "text/plain": [
       "0.9865319865319865"
      ]
     },
     "execution_count": 75,
     "metadata": {},
     "output_type": "execute_result"
    }
   ],
   "source": [
    "tree_model.score(X_train, y_train)"
   ]
  },
  {
   "cell_type": "markdown",
   "id": "52fe152f",
   "metadata": {},
   "source": [
    "## RandomForest"
   ]
  },
  {
   "cell_type": "code",
   "execution_count": 76,
   "id": "5f3a234e",
   "metadata": {},
   "outputs": [],
   "source": [
    "from sklearn.ensemble import RandomForestClassifier\n",
    "forest = RandomForestClassifier(n_estimators=500)"
   ]
  },
  {
   "cell_type": "code",
   "execution_count": 77,
   "id": "87d44ffd",
   "metadata": {},
   "outputs": [
    {
     "data": {
      "text/plain": [
       "RandomForestClassifier(n_estimators=500)"
      ]
     },
     "execution_count": 77,
     "metadata": {},
     "output_type": "execute_result"
    }
   ],
   "source": [
    "forest.fit(X_train, y_train)"
   ]
  },
  {
   "cell_type": "code",
   "execution_count": 78,
   "id": "18bbaddd",
   "metadata": {},
   "outputs": [
    {
     "data": {
      "text/plain": [
       "0.8002008662356411"
      ]
     },
     "execution_count": 78,
     "metadata": {},
     "output_type": "execute_result"
    }
   ],
   "source": [
    "result = cross_val_score(forest, X_train, y_train,cv=5)\n",
    "result.mean()"
   ]
  },
  {
   "cell_type": "code",
   "execution_count": 104,
   "id": "69e0122c",
   "metadata": {
    "scrolled": true
   },
   "outputs": [
    {
     "data": {
      "text/plain": [
       "array([0.05481682, 0.20281794, 0.02213532, 0.01896553, 0.20394272,\n",
       "       0.03259282, 0.00168005, 0.0121954 , 0.02630103, 0.08327511,\n",
       "       0.02191771, 0.00251788, 0.00257999, 0.08200183, 0.09339992,\n",
       "       0.00274652, 0.00649563, 0.00702971, 0.00610273, 0.00968927,\n",
       "       0.00162702, 0.00163277, 0.02885514, 0.00030285, 0.01157431,\n",
       "       0.00720498, 0.01327351, 0.00679798, 0.01803621, 0.01749129])"
      ]
     },
     "execution_count": 104,
     "metadata": {},
     "output_type": "execute_result"
    }
   ],
   "source": [
    "forest.feature_importances_"
   ]
  },
  {
   "cell_type": "code",
   "execution_count": 105,
   "id": "71a24007",
   "metadata": {},
   "outputs": [],
   "source": [
    "import numpy as np\n",
    "import matplotlib.pyplot as plt\n",
    "\n",
    "# 특성 중요도 시각화 하기\n",
    "def plot_feature_importances(model, n_features):\n",
    "    # 축 번호별로 중요도 그래프를 그림\n",
    "    plt.barh(range(n_features), model.feature_importances_)\n",
    "    # 축 번호에 축 이름을 출력\n",
    "    plt.yticks(np.arange(n_features), X_train.columns)\n",
    "    plt.xlabel(\"attr importances\")\n",
    "    plt.ylabel(\"attr\")\n",
    "    plt.ylim(-1, n_features)\n",
    "plt.show()"
   ]
  },
  {
   "cell_type": "code",
   "execution_count": 106,
   "id": "e65aa14c",
   "metadata": {
    "scrolled": true
   },
   "outputs": [
    {
     "data": {
      "image/png": "[encoded data removed]",
      "text/plain": [
       "<Figure size 432x288 with 1 Axes>"
      ]
     },
     "metadata": {
      "needs_background": "light"
     },
     "output_type": "display_data"
    }
   ],
   "source": [
    "plot_feature_importances(forest, X_train.shape[1])"
   ]
  },
  {
   "cell_type": "markdown",
   "id": "2f2d4b3e",
   "metadata": {},
   "source": [
    "## Adaboost"
   ]
  },
  {
   "cell_type": "code",
   "execution_count": 112,
   "id": "f8708088",
   "metadata": {},
   "outputs": [],
   "source": [
    "from sklearn.ensemble import AdaBoostClassifier, GradientBoostingClassifier"
   ]
  },
  {
   "cell_type": "code",
   "execution_count": 108,
   "id": "75a0fe1a",
   "metadata": {},
   "outputs": [],
   "source": [
    "adaboost = AdaBoostClassifier(n_estimators=200)"
   ]
  },
  {
   "cell_type": "code",
   "execution_count": 109,
   "id": "a2da0c44",
   "metadata": {},
   "outputs": [
    {
     "data": {
      "text/plain": [
       "AdaBoostClassifier(n_estimators=200)"
      ]
     },
     "execution_count": 109,
     "metadata": {},
     "output_type": "execute_result"
    }
   ],
   "source": [
    "adaboost.fit(X_train, y_train)"
   ]
  },
  {
   "cell_type": "code",
   "execution_count": 110,
   "id": "22c619c1",
   "metadata": {},
   "outputs": [
    {
     "data": {
      "text/plain": [
       "0.8159625886636117"
      ]
     },
     "execution_count": 110,
     "metadata": {},
     "output_type": "execute_result"
    }
   ],
   "source": [
    "result=cross_val_score(adaboost, X_train, y_train, cv=5)\n",
    "result.mean()"
   ]
  },
  {
   "cell_type": "code",
   "execution_count": 111,
   "id": "98d54e3a",
   "metadata": {},
   "outputs": [
    {
     "data": {
      "image/png": "[encoded data removed]",
      "text/plain": [
       "<Figure size 432x288 with 1 Axes>"
      ]
     },
     "metadata": {
      "needs_background": "light"
     },
     "output_type": "display_data"
    }
   ],
   "source": [
    "plot_feature_importances(adaboost, X_train.shape[1])"
   ]
  },
  {
   "cell_type": "code",
   "execution_count": 113,
   "id": "c123079e",
   "metadata": {},
   "outputs": [],
   "source": [
    "gradientboost= GradientBoostingClassifier(n_estimators=200)"
   ]
  },
  {
   "cell_type": "code",
   "execution_count": 114,
   "id": "2a3ca3aa",
   "metadata": {},
   "outputs": [
    {
     "data": {
      "text/plain": [
       "GradientBoostingClassifier(n_estimators=200)"
      ]
     },
     "execution_count": 114,
     "metadata": {},
     "output_type": "execute_result"
    }
   ],
   "source": [
    "gradientboost.fit(X_train, y_train)"
   ]
  },
  {
   "cell_type": "code",
   "execution_count": 115,
   "id": "e4edb4f3",
   "metadata": {},
   "outputs": [
    {
     "data": {
      "text/plain": [
       "0.8406251961584333"
      ]
     },
     "execution_count": 115,
     "metadata": {},
     "output_type": "execute_result"
    }
   ],
   "source": [
    "result=cross_val_score(gradientboost, X_train, y_train, cv=5)\n",
    "result.mean()"
   ]
  },
  {
   "cell_type": "code",
   "execution_count": 116,
   "id": "1578daea",
   "metadata": {},
   "outputs": [
    {
     "data": {
      "image/png": "[encoded data removed]",
      "text/plain": [
       "<Figure size 432x288 with 1 Axes>"
      ]
     },
     "metadata": {
      "needs_background": "light"
     },
     "output_type": "display_data"
    }
   ],
   "source": [
    "plot_feature_importances(gradientboost, X_train.shape[1])"
   ]
  },
  {
   "cell_type": "code",
   "execution_count": 79,
   "id": "47ae2ea6",
   "metadata": {},
   "outputs": [],
   "source": [
    "y_test=forest.predict(X_test)"
   ]
  },
  {
   "cell_type": "code",
   "execution_count": 80,
   "id": "7ff60baf",
   "metadata": {},
   "outputs": [],
   "source": [
    "gender_sub=pd.read_csv('./data/gender_submission.csv')\n",
    "gender_sub['Survived']=y_test\n",
    "gender_sub.to_csv('mysub02.csv', index=False)"
   ]
  },
  {
   "cell_type": "markdown",
   "id": "b7d4a80a",
   "metadata": {},
   "source": [
    "# 데이터 스케일링"
   ]
  },
  {
   "cell_type": "code",
   "execution_count": 81,
   "id": "aec0b9f0",
   "metadata": {},
   "outputs": [],
   "source": [
    "from sklearn.preprocessing import RobustScaler, StandardScaler"
   ]
  },
  {
   "cell_type": "code",
   "execution_count": 82,
   "id": "afd95daa",
   "metadata": {},
   "outputs": [],
   "source": [
    "rb_scaler= RobustScaler()"
   ]
  },
  {
   "cell_type": "code",
   "execution_count": 83,
   "id": "4c8dc709",
   "metadata": {},
   "outputs": [
    {
     "data": {
      "text/plain": [
       "RobustScaler()"
      ]
     },
     "execution_count": 83,
     "metadata": {},
     "output_type": "execute_result"
    }
   ],
   "source": [
    "rb_scaler.fit(X_train) # 어떤 컬럼에는 어떤 값으로 변경해야하는지"
   ]
  },
  {
   "cell_type": "code",
   "execution_count": 86,
   "id": "f541d0ed",
   "metadata": {},
   "outputs": [],
   "source": [
    "X_train_rb=rb_scaler.transform(X_train)\n",
    "X_test_rb=rb_scaler.transform(X_test)"
   ]
  },
  {
   "cell_type": "code",
   "execution_count": 90,
   "id": "345cf2b5",
   "metadata": {
    "collapsed": true
   },
   "outputs": [
    {
     "data": {
      "text/html": [
       "<div>\n",
       "<style scoped>\n",
       "    .dataframe tbody tr th:only-of-type {\n",
       "        vertical-align: middle;\n",
       "    }\n",
       "\n",
       "    .dataframe tbody tr th {\n",
       "        vertical-align: top;\n",
       "    }\n",
       "\n",
       "    .dataframe thead th {\n",
       "        text-align: right;\n",
       "    }\n",
       "</style>\n",
       "<table border=\"1\" class=\"dataframe\">\n",
       "  <thead>\n",
       "    <tr style=\"text-align: right;\">\n",
       "      <th></th>\n",
       "      <th>Pclass</th>\n",
       "      <th>Age</th>\n",
       "      <th>SibSp</th>\n",
       "      <th>Parch</th>\n",
       "      <th>Fare</th>\n",
       "      <th>Family_size</th>\n",
       "      <th>Name_Dr</th>\n",
       "      <th>Name_Master</th>\n",
       "      <th>Name_Miss</th>\n",
       "      <th>Name_Mr</th>\n",
       "      <th>...</th>\n",
       "      <th>Cabin_F</th>\n",
       "      <th>Cabin_G</th>\n",
       "      <th>Cabin_N</th>\n",
       "      <th>Cabin_T</th>\n",
       "      <th>Embarked_C</th>\n",
       "      <th>Embarked_Q</th>\n",
       "      <th>Embarked_S</th>\n",
       "      <th>Family_group_Alone</th>\n",
       "      <th>Family_group_Small</th>\n",
       "      <th>Family_group_Large</th>\n",
       "    </tr>\n",
       "  </thead>\n",
       "  <tbody>\n",
       "    <tr>\n",
       "      <th>0</th>\n",
       "      <td>3</td>\n",
       "      <td>22.0</td>\n",
       "      <td>1</td>\n",
       "      <td>0</td>\n",
       "      <td>7.2500</td>\n",
       "      <td>2</td>\n",
       "      <td>0</td>\n",
       "      <td>0</td>\n",
       "      <td>0</td>\n",
       "      <td>1</td>\n",
       "      <td>...</td>\n",
       "      <td>0</td>\n",
       "      <td>0</td>\n",
       "      <td>1</td>\n",
       "      <td>0</td>\n",
       "      <td>0</td>\n",
       "      <td>0</td>\n",
       "      <td>1</td>\n",
       "      <td>0</td>\n",
       "      <td>1</td>\n",
       "      <td>0</td>\n",
       "    </tr>\n",
       "    <tr>\n",
       "      <th>1</th>\n",
       "      <td>1</td>\n",
       "      <td>38.0</td>\n",
       "      <td>1</td>\n",
       "      <td>0</td>\n",
       "      <td>71.2833</td>\n",
       "      <td>2</td>\n",
       "      <td>0</td>\n",
       "      <td>0</td>\n",
       "      <td>0</td>\n",
       "      <td>0</td>\n",
       "      <td>...</td>\n",
       "      <td>0</td>\n",
       "      <td>0</td>\n",
       "      <td>0</td>\n",
       "      <td>0</td>\n",
       "      <td>1</td>\n",
       "      <td>0</td>\n",
       "      <td>0</td>\n",
       "      <td>0</td>\n",
       "      <td>1</td>\n",
       "      <td>0</td>\n",
       "    </tr>\n",
       "    <tr>\n",
       "      <th>2</th>\n",
       "      <td>3</td>\n",
       "      <td>26.0</td>\n",
       "      <td>0</td>\n",
       "      <td>0</td>\n",
       "      <td>7.9250</td>\n",
       "      <td>1</td>\n",
       "      <td>0</td>\n",
       "      <td>0</td>\n",
       "      <td>1</td>\n",
       "      <td>0</td>\n",
       "      <td>...</td>\n",
       "      <td>0</td>\n",
       "      <td>0</td>\n",
       "      <td>1</td>\n",
       "      <td>0</td>\n",
       "      <td>0</td>\n",
       "      <td>0</td>\n",
       "      <td>1</td>\n",
       "      <td>1</td>\n",
       "      <td>0</td>\n",
       "      <td>0</td>\n",
       "    </tr>\n",
       "    <tr>\n",
       "      <th>3</th>\n",
       "      <td>1</td>\n",
       "      <td>35.0</td>\n",
       "      <td>1</td>\n",
       "      <td>0</td>\n",
       "      <td>53.1000</td>\n",
       "      <td>2</td>\n",
       "      <td>0</td>\n",
       "      <td>0</td>\n",
       "      <td>0</td>\n",
       "      <td>0</td>\n",
       "      <td>...</td>\n",
       "      <td>0</td>\n",
       "      <td>0</td>\n",
       "      <td>0</td>\n",
       "      <td>0</td>\n",
       "      <td>0</td>\n",
       "      <td>0</td>\n",
       "      <td>1</td>\n",
       "      <td>0</td>\n",
       "      <td>1</td>\n",
       "      <td>0</td>\n",
       "    </tr>\n",
       "    <tr>\n",
       "      <th>4</th>\n",
       "      <td>3</td>\n",
       "      <td>35.0</td>\n",
       "      <td>0</td>\n",
       "      <td>0</td>\n",
       "      <td>8.0500</td>\n",
       "      <td>1</td>\n",
       "      <td>0</td>\n",
       "      <td>0</td>\n",
       "      <td>0</td>\n",
       "      <td>1</td>\n",
       "      <td>...</td>\n",
       "      <td>0</td>\n",
       "      <td>0</td>\n",
       "      <td>1</td>\n",
       "      <td>0</td>\n",
       "      <td>0</td>\n",
       "      <td>0</td>\n",
       "      <td>1</td>\n",
       "      <td>1</td>\n",
       "      <td>0</td>\n",
       "      <td>0</td>\n",
       "    </tr>\n",
       "  </tbody>\n",
       "</table>\n",
       "<p>5 rows × 30 columns</p>\n",
       "</div>"
      ],
      "text/plain": [
       "   Pclass   Age  SibSp  Parch     Fare  Family_size  Name_Dr  Name_Master  \\\n",
       "0       3  22.0      1      0   7.2500            2        0            0   \n",
       "1       1  38.0      1      0  71.2833            2        0            0   \n",
       "2       3  26.0      0      0   7.9250            1        0            0   \n",
       "3       1  35.0      1      0  53.1000            2        0            0   \n",
       "4       3  35.0      0      0   8.0500            1        0            0   \n",
       "\n",
       "   Name_Miss  Name_Mr  ...  Cabin_F  Cabin_G  Cabin_N  Cabin_T  Embarked_C  \\\n",
       "0          0        1  ...        0        0        1        0           0   \n",
       "1          0        0  ...        0        0        0        0           1   \n",
       "2          1        0  ...        0        0        1        0           0   \n",
       "3          0        0  ...        0        0        0        0           0   \n",
       "4          0        1  ...        0        0        1        0           0   \n",
       "\n",
       "   Embarked_Q  Embarked_S  Family_group_Alone  Family_group_Small  \\\n",
       "0           0           1                   0                   1   \n",
       "1           0           0                   0                   1   \n",
       "2           0           1                   1                   0   \n",
       "3           0           1                   0                   1   \n",
       "4           0           1                   1                   0   \n",
       "\n",
       "   Family_group_Large  \n",
       "0                   0  \n",
       "1                   0  \n",
       "2                   0  \n",
       "3                   0  \n",
       "4                   0  \n",
       "\n",
       "[5 rows x 30 columns]"
      ]
     },
     "execution_count": 90,
     "metadata": {},
     "output_type": "execute_result"
    }
   ],
   "source": [
    "X_train.head()"
   ]
  },
  {
   "cell_type": "code",
   "execution_count": 88,
   "id": "77ea15df",
   "metadata": {
    "collapsed": true
   },
   "outputs": [
    {
     "data": {
      "text/plain": [
       "array([[ 0.        , -0.27586207,  1.        ,  0.        , -0.3120106 ,\n",
       "         1.        ,  0.        ,  0.        ,  0.        ,  0.        ,\n",
       "         0.        ,  0.        ,  0.        ,  0.        ,  0.        ,\n",
       "         0.        ,  0.        ,  0.        ,  0.        ,  0.        ,\n",
       "         0.        ,  0.        ,  0.        ,  0.        ,  0.        ,\n",
       "         0.        ,  0.        , -1.        ,  1.        ,  0.        ],\n",
       "       [-2.        ,  0.82758621,  1.        ,  0.        ,  2.46124229,\n",
       "         1.        ,  0.        ,  0.        ,  0.        , -1.        ,\n",
       "         1.        ,  0.        ,  0.        ,  1.        , -1.        ,\n",
       "         0.        ,  0.        ,  1.        ,  0.        ,  0.        ,\n",
       "         0.        ,  0.        , -1.        ,  0.        ,  1.        ,\n",
       "         0.        , -1.        , -1.        ,  1.        ,  0.        ],\n",
       "       [ 0.        ,  0.        ,  0.        ,  0.        , -0.28277666,\n",
       "         0.        ,  0.        ,  0.        ,  1.        , -1.        ,\n",
       "         0.        ,  0.        ,  0.        ,  1.        , -1.        ,\n",
       "         0.        ,  0.        ,  0.        ,  0.        ,  0.        ,\n",
       "         0.        ,  0.        ,  0.        ,  0.        ,  0.        ,\n",
       "         0.        ,  0.        ,  0.        ,  0.        ,  0.        ],\n",
       "       [-2.        ,  0.62068966,  1.        ,  0.        ,  1.6737319 ,\n",
       "         1.        ,  0.        ,  0.        ,  0.        , -1.        ,\n",
       "         1.        ,  0.        ,  0.        ,  1.        , -1.        ,\n",
       "         0.        ,  0.        ,  1.        ,  0.        ,  0.        ,\n",
       "         0.        ,  0.        , -1.        ,  0.        ,  0.        ,\n",
       "         0.        ,  0.        , -1.        ,  1.        ,  0.        ],\n",
       "       [ 0.        ,  0.62068966,  0.        ,  0.        , -0.27736297,\n",
       "         0.        ,  0.        ,  0.        ,  0.        ,  0.        ,\n",
       "         0.        ,  0.        ,  0.        ,  0.        ,  0.        ,\n",
       "         0.        ,  0.        ,  0.        ,  0.        ,  0.        ,\n",
       "         0.        ,  0.        ,  0.        ,  0.        ,  0.        ,\n",
       "         0.        ,  0.        ,  0.        ,  0.        ,  0.        ]])"
      ]
     },
     "execution_count": 88,
     "metadata": {},
     "output_type": "execute_result"
    }
   ],
   "source": [
    "X_train_rb[:5]"
   ]
  },
  {
   "cell_type": "code",
   "execution_count": 98,
   "id": "77b21ced",
   "metadata": {},
   "outputs": [],
   "source": [
    "st_scaler=StandardScaler()"
   ]
  },
  {
   "cell_type": "code",
   "execution_count": 99,
   "id": "cbda2335",
   "metadata": {},
   "outputs": [
    {
     "data": {
      "text/plain": [
       "StandardScaler()"
      ]
     },
     "execution_count": 99,
     "metadata": {},
     "output_type": "execute_result"
    }
   ],
   "source": [
    "st_scaler.fit(X_train)"
   ]
  },
  {
   "cell_type": "code",
   "execution_count": 100,
   "id": "f9de6872",
   "metadata": {},
   "outputs": [],
   "source": [
    "X_train_st=st_scaler.transform(X_train)\n",
    "X_test_st=st_scaler.transform(X_test)"
   ]
  },
  {
   "cell_type": "code",
   "execution_count": 101,
   "id": "660d5304",
   "metadata": {
    "collapsed": true
   },
   "outputs": [
    {
     "data": {
      "text/plain": [
       "array([[ 0.82737724, -0.53489116,  0.43279337, -0.47367361, -0.50244517,\n",
       "         0.05915988, -0.08898625, -0.21680296, -0.50665528,  0.85053175,\n",
       "        -0.4039621 , -0.12634679, -0.0823387 , -0.73769513,  0.73769513,\n",
       "        -0.13085598, -0.23598136, -0.26629582, -0.19611614, -0.19300938,\n",
       "        -0.12168146, -0.06715343,  0.54492498, -0.03352008, -0.48204268,\n",
       "        -0.30756234,  0.61583843, -1.2316449 ,  1.4322604 , -0.2734756 ],\n",
       "       [-1.56610693,  0.66839176,  0.43279337, -0.47367361,  0.78684529,\n",
       "         0.05915988, -0.08898625, -0.21680296, -0.50665528, -1.17573506,\n",
       "         2.47547975, -0.12634679, -0.0823387 ,  1.35557354, -1.35557354,\n",
       "        -0.13085598, -0.23598136,  3.75522235, -0.19611614, -0.19300938,\n",
       "        -0.12168146, -0.06715343, -1.835115  , -0.03352008,  2.0745051 ,\n",
       "        -0.30756234, -1.62380254, -1.2316449 ,  1.4322604 , -0.2734756 ],\n",
       "       [ 0.82737724, -0.23407043, -0.4745452 , -0.47367361, -0.48885426,\n",
       "        -0.56097483, -0.08898625, -0.21680296,  1.97372855, -1.17573506,\n",
       "        -0.4039621 , -0.12634679, -0.0823387 ,  1.35557354, -1.35557354,\n",
       "        -0.13085598, -0.23598136, -0.26629582, -0.19611614, -0.19300938,\n",
       "        -0.12168146, -0.06715343,  0.54492498, -0.03352008, -0.48204268,\n",
       "        -0.30756234,  0.61583843,  0.81192233, -0.69819706, -0.2734756 ],\n",
       "       [-1.56610693,  0.44277621,  0.43279337, -0.47367361,  0.42073024,\n",
       "         0.05915988, -0.08898625, -0.21680296, -0.50665528, -1.17573506,\n",
       "         2.47547975, -0.12634679, -0.0823387 ,  1.35557354, -1.35557354,\n",
       "        -0.13085598, -0.23598136,  3.75522235, -0.19611614, -0.19300938,\n",
       "        -0.12168146, -0.06715343, -1.835115  , -0.03352008, -0.48204268,\n",
       "        -0.30756234,  0.61583843, -1.2316449 ,  1.4322604 , -0.2734756 ],\n",
       "       [ 0.82737724,  0.44277621, -0.4745452 , -0.47367361, -0.48633742,\n",
       "        -0.56097483, -0.08898625, -0.21680296, -0.50665528,  0.85053175,\n",
       "        -0.4039621 , -0.12634679, -0.0823387 , -0.73769513,  0.73769513,\n",
       "        -0.13085598, -0.23598136, -0.26629582, -0.19611614, -0.19300938,\n",
       "        -0.12168146, -0.06715343,  0.54492498, -0.03352008, -0.48204268,\n",
       "        -0.30756234,  0.61583843,  0.81192233, -0.69819706, -0.2734756 ]])"
      ]
     },
     "execution_count": 101,
     "metadata": {},
     "output_type": "execute_result"
    }
   ],
   "source": [
    "X_train_st[:5]"
   ]
  },
  {
   "cell_type": "markdown",
   "id": "993e4ef5",
   "metadata": {},
   "source": [
    "## RandomForest 모델 확인"
   ]
  },
  {
   "cell_type": "code",
   "execution_count": 92,
   "id": "6d4c2cef",
   "metadata": {},
   "outputs": [
    {
     "data": {
      "text/plain": [
       "0.8013244617412593"
      ]
     },
     "execution_count": 92,
     "metadata": {},
     "output_type": "execute_result"
    }
   ],
   "source": [
    "result =cross_val_score(forest, X_train, y_train, cv=5)\n",
    "result.mean()"
   ]
  },
  {
   "cell_type": "code",
   "execution_count": 93,
   "id": "f565cd2c",
   "metadata": {},
   "outputs": [
    {
     "data": {
      "text/plain": [
       "0.8001883120959137"
      ]
     },
     "execution_count": 93,
     "metadata": {},
     "output_type": "execute_result"
    }
   ],
   "source": [
    "result =cross_val_score(forest, X_train_rb, y_train, cv=5)\n",
    "result.mean()"
   ]
  },
  {
   "cell_type": "code",
   "execution_count": 102,
   "id": "1b341a56",
   "metadata": {},
   "outputs": [
    {
     "data": {
      "text/plain": [
       "0.7957127612830331"
      ]
     },
     "execution_count": 102,
     "metadata": {},
     "output_type": "execute_result"
    }
   ],
   "source": [
    "result =cross_val_score(forest, X_train_st, y_train, cv=5)\n",
    "result.mean()"
   ]
  },
  {
   "cell_type": "markdown",
   "id": "6943d20c",
   "metadata": {},
   "source": [
    "## KNN 모델 확인"
   ]
  },
  {
   "cell_type": "code",
   "execution_count": 94,
   "id": "eb2c7b3b",
   "metadata": {},
   "outputs": [],
   "source": [
    "from sklearn.neighbors import KNeighborsClassifier\n",
    "knn_model =KNeighborsClassifier()"
   ]
  },
  {
   "cell_type": "code",
   "execution_count": 95,
   "id": "2386663a",
   "metadata": {},
   "outputs": [
    {
     "data": {
      "text/plain": [
       "0.7250706170359676"
      ]
     },
     "execution_count": 95,
     "metadata": {},
     "output_type": "execute_result"
    }
   ],
   "source": [
    "result =cross_val_score(knn_model, X_train, y_train, cv=5)\n",
    "result.mean()"
   ]
  },
  {
   "cell_type": "code",
   "execution_count": 97,
   "id": "832aeeb5",
   "metadata": {},
   "outputs": [
    {
     "data": {
      "text/plain": [
       "0.8081162513338773"
      ]
     },
     "execution_count": 97,
     "metadata": {},
     "output_type": "execute_result"
    }
   ],
   "source": [
    "result =cross_val_score(knn_model, X_train_rb, y_train, cv=5)\n",
    "result.mean()"
   ]
  },
  {
   "cell_type": "code",
   "execution_count": 103,
   "id": "0a690f10",
   "metadata": {},
   "outputs": [
    {
     "data": {
      "text/plain": [
       "0.7968426338585148"
      ]
     },
     "execution_count": 103,
     "metadata": {},
     "output_type": "execute_result"
    }
   ],
   "source": [
    "result =cross_val_score(knn_model, X_train_st, y_train, cv=5)\n",
    "result.mean()"
   ]
  },
  {
   "cell_type": "code",
   "execution_count": null,
   "id": "b2284689",
   "metadata": {},
   "outputs": [],
   "source": []
  },
  {
   "cell_type": "code",
   "execution_count": null,
   "id": "8f1dce27",
   "metadata": {},
   "outputs": [],
   "source": []
  },
  {
   "cell_type": "code",
   "execution_count": null,
   "id": "29a1556a",
   "metadata": {},
   "outputs": [],
   "source": []
  },
  {
   "cell_type": "code",
   "execution_count": null,
   "id": "9a889622",
   "metadata": {},
   "outputs": [],
   "source": []
  },
  {
   "cell_type": "code",
   "execution_count": null,
   "id": "ded143c6",
   "metadata": {},
   "outputs": [],
   "source": []
  },
  {
   "cell_type": "code",
   "execution_count": null,
   "id": "97a485a7",
   "metadata": {},
   "outputs": [],
   "source": []
  },
  {
   "cell_type": "code",
   "execution_count": null,
   "id": "5afa2822",
   "metadata": {},
   "outputs": [],
   "source": []
  },
  {
   "cell_type": "code",
   "execution_count": null,
   "id": "acf8a738",
   "metadata": {},
   "outputs": [],
   "source": []
  },
  {
   "cell_type": "code",
   "execution_count": null,
   "id": "c0d96184",
   "metadata": {},
   "outputs": [],
   "source": []
  },
  {
   "cell_type": "code",
   "execution_count": null,
   "id": "3328e850",
   "metadata": {},
   "outputs": [],
   "source": []
  },
  {
   "cell_type": "code",
   "execution_count": null,
   "id": "e898175d",
   "metadata": {},
   "outputs": [],
   "source": []
  },
  {
   "cell_type": "code",
   "execution_count": null,
   "id": "d2a0966a",
   "metadata": {},
   "outputs": [],
   "source": []
  },
  {
   "cell_type": "code",
   "execution_count": null,
   "id": "fdebef4f",
   "metadata": {},
   "outputs": [],
   "source": []
  },
  {
   "cell_type": "code",
   "execution_count": null,
   "id": "fd76f1aa",
   "metadata": {},
   "outputs": [],
   "source": []
  },
  {
   "cell_type": "code",
   "execution_count": null,
   "id": "4d23b353",
   "metadata": {},
   "outputs": [],
   "source": []
  },
  {
   "cell_type": "code",
   "execution_count": null,
   "id": "fe62c3f5",
   "metadata": {},
   "outputs": [],
   "source": []
  },
  {
   "cell_type": "code",
   "execution_count": null,
   "id": "4be1d94e",
   "metadata": {},
   "outputs": [],
   "source": []
  },
  {
   "cell_type": "code",
   "execution_count": null,
   "id": "b46def8f",
   "metadata": {},
   "outputs": [],
   "source": []
  },
  {
   "cell_type": "code",
   "execution_count": null,
   "id": "5b08fcb3",
   "metadata": {},
   "outputs": [],
   "source": []
  },
  {
   "cell_type": "code",
   "execution_count": null,
   "id": "5b3e93cb",
   "metadata": {},
   "outputs": [],
   "source": []
  }
 ],
 "metadata": {
  "kernelspec": {
   "display_name": "Python 3 (ipykernel)",
   "language": "python",
   "name": "python3"
  },
  "language_info": {
   "codemirror_mode": {
    "name": "ipython",
    "version": 3
   },
   "file_extension": ".py",
   "mimetype": "text/x-python",
   "name": "python",
   "nbconvert_exporter": "python",
   "pygments_lexer": "ipython3",
   "version": "3.9.7"
  },
  "toc": {
   "base_numbering": 1,
   "nav_menu": {},
   "number_sections": true,
   "sideBar": true,
   "skip_h1_title": false,
   "title_cell": "Table of Contents",
   "title_sidebar": "Contents",
   "toc_cell": false,
   "toc_position": {},
   "toc_section_display": true,
   "toc_window_display": true
  }
 },
 "nbformat": 4,
 "nbformat_minor": 5
}
